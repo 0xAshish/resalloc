{
 "cells": [
  {
   "cell_type": "code",
   "execution_count": 2,
   "metadata": {},
   "outputs": [],
   "source": [
    "import cvxpy as cp\n",
    "import matplotlib.pyplot as plt\n",
    "import numpy as np\n",
    "import torch\n",
    "\n",
    "from resalloc.fungible import AllocationProblem\n",
    "from resalloc.fungible import utilities\n",
    "\n",
    "from latexify import latexify\n",
    "latexify()"
   ]
  },
  {
   "cell_type": "code",
   "execution_count": 3,
   "metadata": {},
   "outputs": [],
   "source": [
    "device = 'cpu'\n",
    "torch.manual_seed(0)\n",
    "np.random.seed(0)\n",
    "\n",
    "USE_DOUBLES = False\n",
    "SOLVE_WITH_MOSEK = True\n",
    "\n",
    "def _matching(col, prev_cols):\n",
    "    return torch.stack([col == pcol for pcol in prev_cols]).any(axis=0)\n",
    "    \n",
    "def make_problem(n_jobs, n_resources, device):\n",
    "    resource_limits = torch.zeros(n_resources, device=device)\n",
    "    \n",
    "    scale = n_jobs\n",
    "    for i in range(n_resources):\n",
    "        resource_limits[i] = torch.tensor(np.random.uniform(low=0.1, high=1) * scale, device=device).float()\n",
    "        scale = scale / 1.5\n",
    "\n",
    "    throughput_matrix = torch.zeros((n_jobs, n_resources), device=device)\n",
    "    mids = np.linspace(0.3, 1., n_resources)\n",
    "    prev_cols = [torch.zeros(n_jobs, device=device)]\n",
    "    for i in range(n_resources):\n",
    "        col = torch.tensor(np.random.uniform(low=0.1, high=mids[i], size=n_jobs), device=device).float()\n",
    "        match_at = _matching(col, prev_cols)\n",
    "        while match_at.any():\n",
    "            subcol = torch.tensor(np.random.uniform(low=0.1, high=mids[i], size=match_at.sum()), device=device).float()\n",
    "            col[match_at] = subcol\n",
    "            match_at = _matching(col, prev_cols)\n",
    "        throughput_matrix[:, i] = col\n",
    "        prev_cols.append(col)\n",
    "    utility_fn = utilities.Log()\n",
    "\n",
    "\n",
    "    alloc_problem = AllocationProblem(\n",
    "        throughput_matrix,\n",
    "        resource_limits=resource_limits,\n",
    "        utility_function=utility_fn\n",
    "    )\n",
    "    return alloc_problem"
   ]
  },
  {
   "cell_type": "code",
   "execution_count": 4,
   "metadata": {},
   "outputs": [],
   "source": [
    "def make_cp_problem(prob):\n",
    "    X = cp.Variable(prob.A.shape, nonneg=True)\n",
    "    A_param = prob.A.cpu().numpy()\n",
    "    R_param = prob.resource_limits.cpu().numpy()[1:]\n",
    "\n",
    "    throughput = cp.sum(cp.multiply(A_param, X), axis=1)\n",
    "    utility = cp.sum(prob.utility_fn.cvxpy_utility(throughput))              \n",
    "\n",
    "    resource_used = cp.sum(X[:, 1:], axis=0)                             \n",
    "\n",
    "    problem = cp.Problem(                                                    \n",
    "        cp.Maximize(utility),                                                \n",
    "        [                                                                    \n",
    "            cp.sum(X, axis=1) <= 1,                                          \n",
    "            resource_used <= R_param\n",
    "        ],                                                                   \n",
    "    )                                                                        \n",
    "    return problem"
   ]
  },
  {
   "cell_type": "code",
   "execution_count": 5,
   "metadata": {},
   "outputs": [
    {
     "name": "stdout",
     "output_type": "stream",
     "text": [
      "tensor([        inf, 593932.1250, 495780.2812, 285549.7812, 174931.8125])\n"
     ]
    }
   ],
   "source": [
    "alloc_problem = make_problem(int(1e6), 4, 'cpu')\n",
    "print(alloc_problem.resource_limits)\n",
    "cvxpy_problem = make_cp_problem(alloc_problem)"
   ]
  },
  {
   "cell_type": "code",
   "execution_count": 6,
   "metadata": {},
   "outputs": [],
   "source": [
    "def solve_w_mosek(cvxpy_problem, alloc_problem):\n",
    "    cvxpy_problem.solve(cp.MOSEK,\n",
    "        mosek_params={\n",
    "            'MSK_DPAR_INTPNT_CO_TOL_REL_GAP': 1e-3,\n",
    "            'MSK_DPAR_INTPNT_CO_TOL_DFEAS': 1e-3,\n",
    "            'MSK_DPAR_INTPNT_CO_TOL_MU_RED': 1e-3, \n",
    "            'MSK_DPAR_INTPNT_CO_TOL_PFEAS': 1e-3\n",
    "        })\n",
    "    print(cvxpy_problem._solve_time)\n",
    "    util = alloc_problem.utility(alloc_problem.make_feasible(torch.tensor(cvxpy_problem.variables()[0].value, device=alloc_problem.A.device))) / alloc_problem.n_jobs\n",
    "    print(util)\n",
    "    return cvxpy_problem._solve_time, util\n",
    "\n",
    "def solve_w_ours(alloc_problem, verbose=False):\n",
    "    _, stats = alloc_problem.solve(max_iter=25, verbose=verbose)\n",
    "    print(stats.solve_time)\n",
    "    util = alloc_problem.utility(alloc_problem.make_feasible(alloc_problem.X)) / alloc_problem.n_jobs\n",
    "    print(alloc_problem.utility(alloc_problem.make_feasible(alloc_problem.X)))\n",
    "    return stats.solve_time, util"
   ]
  },
  {
   "cell_type": "code",
   "execution_count": 34,
   "metadata": {},
   "outputs": [],
   "source": [
    "from tqdm.auto import tqdm\n",
    "\n",
    "def benchmark(jobs_and_resources, n_trials, device, cvxpy=True, verbose=False):\n",
    "    torch.manual_seed(0)\n",
    "    np.random.seed(0)\n",
    "    \n",
    "    times_ours = []\n",
    "    times_mosek = []\n",
    "    utils_ours = []\n",
    "    utils_mosek = []\n",
    "    for n_jobs, n_resources in tqdm(jobs_and_resources):\n",
    "        t_ours = []\n",
    "        u_ours = []\n",
    "        t_mosek = []\n",
    "        u_mosek = []\n",
    "        for trial_num in tqdm(range(n_trials)):\n",
    "            alloc_problem = make_problem(n_jobs, n_resources, device)\n",
    "            cvxpy_problem = make_cp_problem(alloc_problem)\n",
    "            \n",
    "            t, u = solve_w_ours(alloc_problem, verbose)\n",
    "            t_ours.append(t)\n",
    "            u_ours.append(u)\n",
    "            if cvxpy:\n",
    "                print('mosek ...')\n",
    "                t_m, u_m = solve_w_mosek(cvxpy_problem, alloc_problem)\n",
    "                t_mosek.append(t_m)\n",
    "                u_mosek.append(u_m)\n",
    "                \n",
    "        times_ours.append(np.array(t_ours))\n",
    "        times_mosek.append(np.array(t_mosek))\n",
    "        utils_ours.append(np.array(u_ours))\n",
    "        utils_mosek.append(np.array(u_mosek))\n",
    "    return map(np.stack, [times_ours, times_mosek, utils_ours, utils_mosek])"
   ]
  },
  {
   "cell_type": "code",
   "execution_count": 32,
   "metadata": {},
   "outputs": [
    {
     "data": {
      "application/vnd.jupyter.widget-view+json": {
       "model_id": "d363a94db6234e76a886385755d42321",
       "version_major": 2,
       "version_minor": 0
      },
      "text/plain": [
       "HBox(children=(FloatProgress(value=0.0, max=5.0), HTML(value='')))"
      ]
     },
     "metadata": {},
     "output_type": "display_data"
    },
    {
     "data": {
      "application/vnd.jupyter.widget-view+json": {
       "model_id": "ef198d2b04374ba8b30817883ddf9961",
       "version_major": 2,
       "version_minor": 0
      },
      "text/plain": [
       "HBox(children=(FloatProgress(value=0.0, max=5.0), HTML(value='')))"
      ]
     },
     "metadata": {},
     "output_type": "display_data"
    },
    {
     "name": "stdout",
     "output_type": "stream",
     "text": [
      "0.026294469833374023\n",
      "-67.16521453857422\n",
      "0.06179475784301758\n",
      "-108.19627380371094\n",
      "0.28142762184143066\n",
      "-77.16432189941406\n",
      "0.05835461616516113\n",
      "-62.92249298095703\n",
      "0.052037954330444336\n",
      "-66.55229949951172\n",
      "\n"
     ]
    },
    {
     "data": {
      "application/vnd.jupyter.widget-view+json": {
       "model_id": "a3cde0b61c744c9c80c0779d3d2fc72f",
       "version_major": 2,
       "version_minor": 0
      },
      "text/plain": [
       "HBox(children=(FloatProgress(value=0.0, max=5.0), HTML(value='')))"
      ]
     },
     "metadata": {},
     "output_type": "display_data"
    },
    {
     "name": "stdout",
     "output_type": "stream",
     "text": [
      "0.029804706573486328\n",
      "-1094.5977783203125\n",
      "0.08089828491210938\n",
      "-692.0288696289062\n",
      "0.06449437141418457\n",
      "-777.3310546875\n",
      "0.050781965255737305\n",
      "-827.531494140625\n",
      "0.13970565795898438\n",
      "-658.257080078125\n",
      "\n"
     ]
    },
    {
     "data": {
      "application/vnd.jupyter.widget-view+json": {
       "model_id": "62ce9fed26a54a1e8a826dd628cdb39d",
       "version_major": 2,
       "version_minor": 0
      },
      "text/plain": [
       "HBox(children=(FloatProgress(value=0.0, max=5.0), HTML(value='')))"
      ]
     },
     "metadata": {},
     "output_type": "display_data"
    },
    {
     "name": "stdout",
     "output_type": "stream",
     "text": [
      "0.06419944763183594\n",
      "-6365.8798828125\n",
      "0.05534934997558594\n",
      "-6924.05078125\n",
      "0.06140422821044922\n",
      "-5810.84228515625\n",
      "0.07205557823181152\n",
      "-7265.90576171875\n",
      "0.02714395523071289\n",
      "-10333.0234375\n",
      "\n"
     ]
    },
    {
     "data": {
      "application/vnd.jupyter.widget-view+json": {
       "model_id": "672477d515914519894e69583d0e4d1b",
       "version_major": 2,
       "version_minor": 0
      },
      "text/plain": [
       "HBox(children=(FloatProgress(value=0.0, max=5.0), HTML(value='')))"
      ]
     },
     "metadata": {},
     "output_type": "display_data"
    },
    {
     "name": "stdout",
     "output_type": "stream",
     "text": [
      "0.07877540588378906\n",
      "-81402.609375\n",
      "0.06814265251159668\n",
      "-57840.890625\n",
      "0.038199424743652344\n",
      "-68289.75\n",
      "0.05143857002258301\n",
      "-68087.703125\n",
      "0.10704445838928223\n",
      "-81152.578125\n",
      "\n"
     ]
    },
    {
     "data": {
      "application/vnd.jupyter.widget-view+json": {
       "model_id": "a47421f2a1fc4bb8ab4713f66bfa9f87",
       "version_major": 2,
       "version_minor": 0
      },
      "text/plain": [
       "HBox(children=(FloatProgress(value=0.0, max=5.0), HTML(value='')))"
      ]
     },
     "metadata": {},
     "output_type": "display_data"
    },
    {
     "name": "stdout",
     "output_type": "stream",
     "text": [
      "0.18192315101623535\n",
      "-929837.3125\n",
      "0.08686017990112305\n",
      "-1227243.0\n",
      "0.31728529930114746\n",
      "-630306.125\n",
      "0.43767642974853516\n",
      "-615942.25\n",
      "0.3957633972167969\n",
      "-614373.8125\n",
      "\n",
      "\n"
     ]
    }
   ],
   "source": [
    "jobs = list(map(int, [1e2, 1e3, 1e4, 1e5, 1e6]))\n",
    "matrix = [(j, 4) for j in jobs]\n",
    "jobs_t_ours_cuda, _, jobs_u_ours_cuda, _ = benchmark(matrix, 5, 'cuda', cvxpy=False)\n",
    "np.save('jobs_t_ours_cuda', jobs_t_ours_cuda)\n",
    "np.save('jobs_u_ours_cuda', jobs_u_ours_cuda)"
   ]
  },
  {
   "cell_type": "code",
   "execution_count": 9,
   "metadata": {},
   "outputs": [
    {
     "data": {
      "application/vnd.jupyter.widget-view+json": {
       "model_id": "a10931b090874a8d87888b2301f8ae8c",
       "version_major": 2,
       "version_minor": 0
      },
      "text/plain": [
       "HBox(children=(FloatProgress(value=0.0, max=5.0), HTML(value='')))"
      ]
     },
     "metadata": {},
     "output_type": "display_data"
    },
    {
     "data": {
      "application/vnd.jupyter.widget-view+json": {
       "model_id": "314ecf59fb464c37aac17bfda4d91621",
       "version_major": 2,
       "version_minor": 0
      },
      "text/plain": [
       "HBox(children=(FloatProgress(value=0.0, max=1.0), HTML(value='')))"
      ]
     },
     "metadata": {},
     "output_type": "display_data"
    },
    {
     "name": "stdout",
     "output_type": "stream",
     "text": [
      "0.024735212326049805\n",
      "-65.63729858398438\n",
      "mosek ...\n",
      "0.02352285385131836\n",
      "-0.6571488702809554\n",
      "\n"
     ]
    },
    {
     "data": {
      "application/vnd.jupyter.widget-view+json": {
       "model_id": "e9b874403f504c31930ddefe20b649d6",
       "version_major": 2,
       "version_minor": 0
      },
      "text/plain": [
       "HBox(children=(FloatProgress(value=0.0, max=1.0), HTML(value='')))"
      ]
     },
     "metadata": {},
     "output_type": "display_data"
    },
    {
     "name": "stdout",
     "output_type": "stream",
     "text": [
      "0.029909849166870117\n",
      "-889.2044067382812\n",
      "mosek ...\n",
      "0.13083982467651367\n",
      "-0.889810757166216\n",
      "\n"
     ]
    },
    {
     "data": {
      "application/vnd.jupyter.widget-view+json": {
       "model_id": "8519524d25dc48d48ef72f95f0241f53",
       "version_major": 2,
       "version_minor": 0
      },
      "text/plain": [
       "HBox(children=(FloatProgress(value=0.0, max=1.0), HTML(value='')))"
      ]
     },
     "metadata": {},
     "output_type": "display_data"
    },
    {
     "name": "stdout",
     "output_type": "stream",
     "text": [
      "0.014200448989868164\n",
      "-8729.787109375\n",
      "mosek ...\n",
      "0.7982940673828125\n",
      "-0.8745475838503558\n",
      "\n"
     ]
    },
    {
     "data": {
      "application/vnd.jupyter.widget-view+json": {
       "model_id": "9043313f6a4c443986594bd0e3fd8b7c",
       "version_major": 2,
       "version_minor": 0
      },
      "text/plain": [
       "HBox(children=(FloatProgress(value=0.0, max=1.0), HTML(value='')))"
      ]
     },
     "metadata": {},
     "output_type": "display_data"
    },
    {
     "name": "stdout",
     "output_type": "stream",
     "text": [
      "0.35524797439575195\n",
      "-66648.4375\n",
      "mosek ...\n",
      "8.936993837356567\n",
      "-0.6667478226351055\n",
      "\n"
     ]
    },
    {
     "data": {
      "application/vnd.jupyter.widget-view+json": {
       "model_id": "8dfc6295169d4d7aba637b238d38c69f",
       "version_major": 2,
       "version_minor": 0
      },
      "text/plain": [
       "HBox(children=(FloatProgress(value=0.0, max=1.0), HTML(value='')))"
      ]
     },
     "metadata": {},
     "output_type": "display_data"
    },
    {
     "name": "stdout",
     "output_type": "stream",
     "text": [
      "2.320728063583374\n",
      "-804069.6875\n",
      "mosek ...\n",
      "99.82263731956482\n",
      "-0.8052147153950971\n",
      "\n",
      "\n"
     ]
    }
   ],
   "source": [
    "jobs_t_ours_cpu, jobs_t_mosek, jobs_u_ours_cpu, jobs_u_mosek = benchmark(matrix, 5, 'cpu', cvxpy=True)\n",
    "np.save('jobs_t_ours_cpu', jobs_t_ours_cpu)\n",
    "np.save('jobs_t_mosek', jobs_t_mosek)\n",
    "np.save('jobs_u_ours_cpu', jobs_u_ours_cpu)\n",
    "np.save('jobs_u_mosek', jobs_u_mosek)"
   ]
  },
  {
   "cell_type": "code",
   "execution_count": 10,
   "metadata": {},
   "outputs": [],
   "source": [
    "resources = [2, 4, 8, 16]\n",
    "matrix = [(int(1e6), r) for r in resources]"
   ]
  },
  {
   "cell_type": "code",
   "execution_count": 11,
   "metadata": {},
   "outputs": [
    {
     "data": {
      "application/vnd.jupyter.widget-view+json": {
       "model_id": "f49457ddad1a41908004749713c3c238",
       "version_major": 2,
       "version_minor": 0
      },
      "text/plain": [
       "HBox(children=(FloatProgress(value=0.0, max=4.0), HTML(value='')))"
      ]
     },
     "metadata": {},
     "output_type": "display_data"
    },
    {
     "data": {
      "application/vnd.jupyter.widget-view+json": {
       "model_id": "65e760e506fd4789acbcbadc309c7900",
       "version_major": 2,
       "version_minor": 0
      },
      "text/plain": [
       "HBox(children=(FloatProgress(value=0.0, max=5.0), HTML(value='')))"
      ]
     },
     "metadata": {},
     "output_type": "display_data"
    },
    {
     "name": "stdout",
     "output_type": "stream",
     "text": [
      "0.1379237174987793\n",
      "-914739.75\n",
      "0.14818215370178223\n",
      "-836083.0\n",
      "0.04438662528991699\n",
      "-1153408.5\n",
      "0.045903921127319336\n",
      "-903892.125\n",
      "0.09153270721435547\n",
      "-889301.5\n",
      "\n"
     ]
    },
    {
     "data": {
      "application/vnd.jupyter.widget-view+json": {
       "model_id": "74f624da3065477797a96dff7e7f7434",
       "version_major": 2,
       "version_minor": 0
      },
      "text/plain": [
       "HBox(children=(FloatProgress(value=0.0, max=5.0), HTML(value='')))"
      ]
     },
     "metadata": {},
     "output_type": "display_data"
    },
    {
     "name": "stdout",
     "output_type": "stream",
     "text": [
      "0.34292101860046387\n",
      "-689583.75\n",
      "0.4866147041320801\n",
      "-933133.125\n",
      "0.20057010650634766\n",
      "-726027.875\n",
      "0.3704109191894531\n",
      "-765759.0\n",
      "0.34874749183654785\n",
      "-710133.875\n",
      "\n"
     ]
    },
    {
     "data": {
      "application/vnd.jupyter.widget-view+json": {
       "model_id": "6f4bc8864b5d4be399437b2ad9aac062",
       "version_major": 2,
       "version_minor": 0
      },
      "text/plain": [
       "HBox(children=(FloatProgress(value=0.0, max=5.0), HTML(value='')))"
      ]
     },
     "metadata": {},
     "output_type": "display_data"
    },
    {
     "name": "stdout",
     "output_type": "stream",
     "text": [
      "2.62369966506958\n",
      "-1000850.75\n",
      "2.168287992477417\n",
      "-921253.875\n",
      "1.72763991355896\n",
      "-745855.5\n",
      "1.7811305522918701\n",
      "-683389.875\n",
      "2.408228635787964\n",
      "-767149.4375\n",
      "\n"
     ]
    },
    {
     "data": {
      "application/vnd.jupyter.widget-view+json": {
       "model_id": "ac7c8f9889d2430cba2ef546f4004986",
       "version_major": 2,
       "version_minor": 0
      },
      "text/plain": [
       "HBox(children=(FloatProgress(value=0.0, max=5.0), HTML(value='')))"
      ]
     },
     "metadata": {},
     "output_type": "display_data"
    },
    {
     "name": "stdout",
     "output_type": "stream",
     "text": [
      "5.425336122512817\n",
      "-1002813.5\n",
      "6.503345489501953\n",
      "-983897.9375\n",
      "5.83215069770813\n",
      "-1017954.0\n",
      "5.552276611328125\n",
      "-918450.0\n",
      "6.4934241771698\n",
      "-958046.125\n",
      "\n",
      "\n"
     ]
    }
   ],
   "source": [
    "r_t_ours_cuda, _, r_u_ours_cuda, _ = benchmark(matrix, 5, 'cuda', cvxpy=False)\n",
    "np.save('r_t_ours_cuda', r_t_ours_cuda)\n",
    "np.save('r_u_ours_cuda', r_u_ours_cuda)"
   ]
  },
  {
   "cell_type": "code",
   "execution_count": 12,
   "metadata": {},
   "outputs": [
    {
     "data": {
      "application/vnd.jupyter.widget-view+json": {
       "model_id": "c3477fcf06844fbdb5b45097e56df0ff",
       "version_major": 2,
       "version_minor": 0
      },
      "text/plain": [
       "HBox(children=(FloatProgress(value=0.0, max=4.0), HTML(value='')))"
      ]
     },
     "metadata": {},
     "output_type": "display_data"
    },
    {
     "data": {
      "application/vnd.jupyter.widget-view+json": {
       "model_id": "e42f011e8d2f4fd797ffee54ac4b0fe8",
       "version_major": 2,
       "version_minor": 0
      },
      "text/plain": [
       "HBox(children=(FloatProgress(value=0.0, max=1.0), HTML(value='')))"
      ]
     },
     "metadata": {},
     "output_type": "display_data"
    },
    {
     "name": "stdout",
     "output_type": "stream",
     "text": [
      "Apr 02 12:11:00 PM: iteration 00 | utility=-1.29645 | dual_value=-0.82161 | gap=4.75e-01\n",
      "Apr 02 12:11:01 PM: iteration 02 | utility=-0.914739 | dual_value=-0.909601 | gap=5.14e-03\n",
      "Apr 02 12:11:02 PM: Converged in 004 iterations, with residual 0.000434625\n",
      "2.0138776302337646\n",
      "-914739.375\n",
      "mosek ...\n",
      "61.785062074661255\n",
      "-0.9159820590839896\n",
      "\n"
     ]
    },
    {
     "data": {
      "application/vnd.jupyter.widget-view+json": {
       "model_id": "6dc9c7573b264f95907fd7d51e4df4df",
       "version_major": 2,
       "version_minor": 0
      },
      "text/plain": [
       "HBox(children=(FloatProgress(value=0.0, max=1.0), HTML(value='')))"
      ]
     },
     "metadata": {},
     "output_type": "display_data"
    },
    {
     "name": "stdout",
     "output_type": "stream",
     "text": [
      "Apr 02 12:12:11 PM: iteration 00 | utility=-1.1723 | dual_value=-0.140479 | gap=1.03e+00\n",
      "Apr 02 12:12:12 PM: iteration 02 | utility=-1.03939 | dual_value=-0.704796 | gap=3.35e-01\n",
      "Apr 02 12:12:12 PM: iteration 04 | utility=-0.868286 | dual_value=-0.789845 | gap=7.84e-02\n",
      "Apr 02 12:12:13 PM: iteration 06 | utility=-0.815193 | dual_value=-0.808998 | gap=6.20e-03\n",
      "Apr 02 12:12:16 PM: iteration 08 | utility=-0.822201 | dual_value=-0.809513 | gap=1.27e-02\n",
      "Apr 02 12:12:17 PM: iteration 10 | utility=-0.810638 | dual_value=-0.809653 | gap=9.85e-04\n",
      "Apr 02 12:12:17 PM: Converged in 011 iterations, with residual 0.000984688\n",
      "5.911263704299927\n",
      "-810638.125\n",
      "mosek ...\n",
      "114.9179847240448\n",
      "-0.8105337724084113\n",
      "\n"
     ]
    },
    {
     "data": {
      "application/vnd.jupyter.widget-view+json": {
       "model_id": "101c23758b914237a105105a9953d1f8",
       "version_major": 2,
       "version_minor": 0
      },
      "text/plain": [
       "HBox(children=(FloatProgress(value=0.0, max=1.0), HTML(value='')))"
      ]
     },
     "metadata": {},
     "output_type": "display_data"
    },
    {
     "name": "stdout",
     "output_type": "stream",
     "text": [
      "Apr 02 12:14:24 PM: iteration 00 | utility=-0.958098 | dual_value=0.133095 | gap=1.09e+00\n",
      "Apr 02 12:14:25 PM: iteration 02 | utility=-1.12439 | dual_value=-0.490686 | gap=6.34e-01\n",
      "Apr 02 12:14:26 PM: iteration 04 | utility=-0.885663 | dual_value=-0.627245 | gap=2.58e-01\n",
      "Apr 02 12:14:27 PM: iteration 06 | utility=-0.792078 | dual_value=-0.651205 | gap=1.41e-01\n",
      "Apr 02 12:14:29 PM: iteration 08 | utility=-0.771059 | dual_value=-0.670191 | gap=1.01e-01\n",
      "Apr 02 12:14:34 PM: iteration 10 | utility=-0.72455 | dual_value=-0.677928 | gap=4.66e-02\n",
      "Apr 02 12:14:37 PM: iteration 12 | utility=-0.691061 | dual_value=-0.67831 | gap=1.28e-02\n",
      "Apr 02 12:14:38 PM: iteration 14 | utility=-0.683418 | dual_value=-0.678462 | gap=4.96e-03\n",
      "Apr 02 12:14:40 PM: iteration 16 | utility=-0.682028 | dual_value=-0.67851 | gap=3.52e-03\n",
      "Apr 02 12:14:41 PM: Converged in 018 iterations, with residual 0.000531062\n",
      "17.476947784423828\n",
      "-679045.8125\n",
      "mosek ...\n",
      "132.77996802330017\n",
      "-0.6798614919849667\n",
      "\n"
     ]
    },
    {
     "data": {
      "application/vnd.jupyter.widget-view+json": {
       "model_id": "091c5d9a06ad413fb41885da8a07ec67",
       "version_major": 2,
       "version_minor": 0
      },
      "text/plain": [
       "HBox(children=(FloatProgress(value=0.0, max=1.0), HTML(value='')))"
      ]
     },
     "metadata": {},
     "output_type": "display_data"
    },
    {
     "name": "stdout",
     "output_type": "stream",
     "text": [
      "Apr 02 12:17:18 PM: iteration 00 | utility=-1.4206 | dual_value=-0.599227 | gap=8.21e-01\n",
      "Apr 02 12:17:21 PM: iteration 02 | utility=-1.17133 | dual_value=-0.828911 | gap=3.42e-01\n",
      "Apr 02 12:17:26 PM: iteration 04 | utility=-1.08996 | dual_value=-0.930835 | gap=1.59e-01\n",
      "Apr 02 12:17:31 PM: iteration 06 | utility=-1.07436 | dual_value=-0.938911 | gap=1.35e-01\n",
      "Apr 02 12:17:34 PM: iteration 08 | utility=-1.06021 | dual_value=-0.944072 | gap=1.16e-01\n",
      "Apr 02 12:17:37 PM: iteration 10 | utility=-1.01635 | dual_value=-0.949811 | gap=6.65e-02\n",
      "Apr 02 12:17:40 PM: iteration 12 | utility=-1.01972 | dual_value=-0.953545 | gap=6.62e-02\n",
      "Apr 02 12:17:46 PM: iteration 14 | utility=-0.999619 | dual_value=-0.954919 | gap=4.47e-02\n",
      "Apr 02 12:17:51 PM: iteration 16 | utility=-0.992257 | dual_value=-0.955568 | gap=3.67e-02\n",
      "Apr 02 12:17:56 PM: iteration 18 | utility=-0.994614 | dual_value=-0.955601 | gap=3.90e-02\n",
      "Apr 02 12:18:01 PM: iteration 20 | utility=-0.996736 | dual_value=-0.955618 | gap=4.11e-02\n",
      "Apr 02 12:18:04 PM: iteration 22 | utility=-0.99274 | dual_value=-0.955634 | gap=3.71e-02\n",
      "Apr 02 12:18:09 PM: iteration 24 | utility=-0.989605 | dual_value=-0.956255 | gap=3.33e-02\n",
      "53.9631826877594\n",
      "-989605.125\n",
      "mosek ...\n",
      "208.61067700386047\n",
      "-0.9597327861165933\n",
      "\n",
      "\n"
     ]
    }
   ],
   "source": [
    "r_t_ours_cpu, r_t_mosek, r_u_ours_cpu, r_u_mosek = benchmark(matrix, 5, 'cpu', cvxpy=True, verbose=True)\n",
    "np.save('r_t_ours_cpu', r_t_ours_cpu)\n",
    "np.save('r_t_mosek', r_t_mosek)\n",
    "np.save('r_u_ours_cpu', r_u_ours_cpu)\n",
    "np.save('r_u_mosek', r_u_mosek)"
   ]
  },
  {
   "cell_type": "code",
   "execution_count": 76,
   "metadata": {},
   "outputs": [
    {
     "data": {
      "image/png": "[encoded data removed]",
      "text/plain": [
       "<Figure size 388.8x471.273 with 2 Axes>"
      ]
     },
     "metadata": {
      "needs_background": "light"
     },
     "output_type": "display_data"
    }
   ],
   "source": [
    "import latexify\n",
    "latexify.latexify()\n",
    "import matplotlib.pyplot as plt\n",
    "\n",
    "jobs_t_ours_cuda = np.load('jobs_t_ours_cuda.npy')\n",
    "jobs_u_ours_cuda = np.load('jobs_u_ours_cuda.npy')\n",
    "\n",
    "jobs_t_ours_cpu = np.load('jobs_t_ours_cpu.npy')\n",
    "jobs_t_mosek = np.load('jobs_t_mosek.npy')\n",
    "jobs_u_ours_cpu = np.load('jobs_u_ours_cpu.npy')\n",
    "jobs_u_mosek = np.load('jobs_u_mosek.npy')\n",
    "\n",
    "fig, axs = plt.subplots(2, 1, sharex=True)\n",
    "fig.set_size_inches((5.4, 7.2/1.1))\n",
    "\n",
    "axs[0].plot(jobs, jobs_t_ours_cpu.mean(axis=1), label='price discovery (cpu)')\n",
    "axs[0].plot(jobs, jobs_t_ours_cuda.mean(axis=1), label='price discovery (gpu)')\n",
    "axs[0].plot(jobs, jobs_t_mosek.mean(axis=1), label='mosek')\n",
    "axs[0].set_xscale('log')\n",
    "axs[0].set_yscale('log')\n",
    "axs[0].set_ylabel('seconds')\n",
    "axs[0].legend()\n",
    "\n",
    "\n",
    "axs[1].bar(jobs,\n",
    "           jobs_u_ours_cpu.mean(axis=1) - jobs_u_mosek.mean(axis=1),\n",
    "           width=np.array([10, 100, 1000, 10000])*100, color='gray')\n",
    "#axs[1].plot(jobs, jobs_u_ours_cpu.mean(axis=1) - jobs_u_mosek.mean(axis=1))\n",
    "axs[1].axhline(0, linestyle='--', color='k')\n",
    "axs[1].set_ylim(bottom=-0.001)\n",
    "axs[1].set_xscale('log')\n",
    "axs[1].set_ylabel('$(U(X) - U(X_{\\\\textnormal{msk}}))/n$')\n",
    "axs[1].set_xlabel('number of jobs')\n",
    "axs[1].ticklabel_format(style='sci', axis='y', scilimits=(0,0))\n",
    "\n",
    "plt.tight_layout()\n",
    "plt.savefig('v_mosek_jobs.pdf')"
   ]
  },
  {
   "cell_type": "code",
   "execution_count": null,
   "metadata": {},
   "outputs": [],
   "source": [
    "import latexify\n",
    "latexify.latexify()\n",
    "import matplotlib.pyplot as plt\n",
    "\n",
    "\n",
    "jobs_t_ours_cpu = np.load('jobs_t_ours_cpu.npy')\n",
    "jobs_t_mosek = np.load('jobs_t_mosek.npy')\n",
    "jobs_u_ours_cpu = np.load('jobs_u_ours_cpu.npy')\n",
    "jobs_u_mosek = np.load('jobs_u_mosek.npy')\n",
    "\n",
    "fig, axs = plt.subplots(2, 1)\n",
    "fig.set_size_inches((5.4, 7.2/1.1))\n",
    "\n",
    "axs[0].plot(jobs, jobs_t_ours_cpu.mean(axis=1), label='price discovery (cpu)')\n",
    "axs[0].plot(jobs, jobs_t_ours_cuda.mean(axis=1), label='price discovery (gpu)')\n",
    "axs[0].plot(jobs, jobs_t_mosek.mean(axis=1), label='mosek')\n",
    "axs[0].set_xscale('log')\n",
    "axs[0].set_yscale('log')\n",
    "axs[0].set_ylabel('seconds')\n",
    "axs[0].legend()\n",
    "#plt.show()\n",
    "\n",
    "\n",
    "plt.tight_layout()\n",
    "plt.savefig('v_mosek_jobs.pdf')"
   ]
  },
  {
   "cell_type": "code",
   "execution_count": 33,
   "metadata": {},
   "outputs": [
    {
     "data": {
      "image/png": "[encoded data removed]",
      "text/plain": [
       "<Figure size 388.8x471.273 with 2 Axes>"
      ]
     },
     "metadata": {
      "needs_background": "light"
     },
     "output_type": "display_data"
    }
   ],
   "source": [
    "import latexify\n",
    "latexify.latexify()\n",
    "import matplotlib.pyplot as plt\n",
    "\n",
    "\n",
    "fig, axs = plt.subplots(2, 1)\n",
    "fig.set_size_inches((5.4, 7.2/1.1))\n",
    "\n",
    "axs[0].plot(resources, r_t_ours_cuda.mean(axis=1), label='price discovery (gpu)')\n",
    "axs[0].plot(resources, r_t_ours_cpu.mean(axis=1), label='price discovery (cpu)')\n",
    "axs[0].plot(resources, r_t_mosek.mean(axis=1), label='mosek')\n",
    "axs[0].set_xscale('log', basex=2)\n",
    "axs[0].set_yscale('log')\n",
    "axs[0].set_ylabel('seconds')\n",
    "axs[0].legend(loc='upper left')\n",
    "axs[0].set_xlabel('number of resources')\n",
    "\n",
    "#plt.show()\n",
    "\n",
    "\n",
    "jobs = list(map(int, [1e2, 1e3, 1e4, 1e5, 1e6]))\n",
    "axs[1].plot(jobs, jobs_t_ours_cuda.mean(axis=1), label='price discovery (gpu)')\n",
    "axs[1].plot(jobs, jobs_t_ours_cpu.mean(axis=1), label='price discovery (cpu)')\n",
    "axs[1].plot(jobs, jobs_t_mosek.mean(axis=1), label='mosek')\n",
    "axs[1].set_xscale('log')\n",
    "axs[1].set_yscale('log')\n",
    "axs[1].set_ylabel('seconds')\n",
    "axs[1].legend()\n",
    "axs[1].set_xlabel('number of jobs')\n",
    "\n",
    "plt.tight_layout()\n",
    "plt.savefig('v_mosek.pdf')"
   ]
  }
 ],
 "metadata": {
  "kernelspec": {
   "display_name": "Python 3",
   "language": "python",
   "name": "python3"
  },
  "language_info": {
   "codemirror_mode": {
    "name": "ipython",
    "version": 3
   },
   "file_extension": ".py",
   "mimetype": "text/x-python",
   "name": "python",
   "nbconvert_exporter": "python",
   "pygments_lexer": "ipython3",
   "version": "3.8.6"
  }
 },
 "nbformat": 4,
 "nbformat_minor": 4
}
