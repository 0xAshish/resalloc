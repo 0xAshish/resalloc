{
 "cells": [
  {
   "cell_type": "code",
   "execution_count": 1,
   "metadata": {},
   "outputs": [],
   "source": [
    "import cvxpy as cp\n",
    "import matplotlib.pyplot as plt\n",
    "import numpy as np\n",
    "import torch\n",
    "\n",
    "from resalloc.fungible import AllocationProblem\n",
    "from resalloc.fungible import utilities\n",
    "\n",
    "from latexify import latexify\n",
    "latexify()"
   ]
  },
  {
   "cell_type": "code",
   "execution_count": 2,
   "metadata": {},
   "outputs": [],
   "source": [
    "def make_problem(n_jobs, n_resources, device):\n",
    "\n",
    "    resource_limits = torch.rand(n_resources, device=device) * n_jobs + 1e3\n",
    "    job_demands = None\n",
    "    utility_fn = utilities.Log()\n",
    "    \n",
    "    throughput_matrix = torch.tensor(\n",
    "        np.random.uniform(low=1., high=2., size=(n_jobs, n_resources))\n",
    "    ).float()\n",
    "    throughput_matrix = throughput_matrix.to(device)\n",
    "\n",
    "    problem = AllocationProblem(\n",
    "        throughput_matrix,\n",
    "        resource_limits=resource_limits,\n",
    "        job_demands=job_demands,\n",
    "        utility_function=utility_fn\n",
    "    )\n",
    "    return problem"
   ]
  },
  {
   "cell_type": "code",
   "execution_count": 3,
   "metadata": {},
   "outputs": [],
   "source": [
    "from collections import namedtuple\n",
    "\n",
    "Stats = namedtuple('Stats', ['mean', 'std', 'min', 'max'])"
   ]
  },
  {
   "cell_type": "code",
   "execution_count": 4,
   "metadata": {},
   "outputs": [],
   "source": [
    "from tqdm.auto import tqdm\n",
    "import time\n",
    "\n",
    "resources = torch.tensor(np.linspace(start=2, stop=100, num=10)).int()\n",
    "jobs = [int(1e5)]*len(resources)\n",
    "n_trials = 5\n",
    "\n",
    "def benchmark(device, jobs, resources, n_trials):\n",
    "    device_times = []\n",
    "    for j, r in tqdm(list(zip(jobs, resources))):\n",
    "        print(f'{r} RESOURCES')\n",
    "\n",
    "        torch.manual_seed(0)\n",
    "        np.random.seed(0)\n",
    "\n",
    "        times = []\n",
    "        for i in tqdm(range(n_trials)):\n",
    "            problem = make_problem(j, r, device)\n",
    "            prices = problem.utility_fn.initial_prices(problem)\n",
    "            start = time.time()\n",
    "            #_, stats = problem.solve(eps=eps, max_iter=max_iter, print_every=1, verbose=False)\n",
    "            problem.evaluate_dual_function(prices)\n",
    "            if device == 'cuda':\n",
    "                torch.cuda.synchronize()\n",
    "            end = time.time()\n",
    "            del problem\n",
    "            times.append(end - start)\n",
    "        times = np.array(times)\n",
    "        mean = np.mean(times)\n",
    "        std = np.std(times)\n",
    "        min_ = np.min(times)\n",
    "        max_ = np.max(times)\n",
    "        device_times.append(Stats(mean, std, min_, max_))\n",
    "    return device_times\n"
   ]
  },
  {
   "cell_type": "code",
   "execution_count": 5,
   "metadata": {},
   "outputs": [],
   "source": [
    "gpu_stats = benchmark('cuda', jobs, resources, n_trials)"
   ]
  },
  {
   "cell_type": "code",
   "execution_count": 6,
   "metadata": {},
   "outputs": [
    {
     "data": {
      "application/vnd.jupyter.widget-view+json": {
       "model_id": "a90880a158d04df9a2fe3f41491de4e6",
       "version_major": 2,
       "version_minor": 0
      },
      "text/plain": [
       "  0%|          | 0/10 [00:00<?, ?it/s]"
      ]
     },
     "metadata": {},
     "output_type": "display_data"
    },
    {
     "name": "stdout",
     "output_type": "stream",
     "text": [
      "2 RESOURCES\n"
     ]
    },
    {
     "data": {
      "application/vnd.jupyter.widget-view+json": {
       "model_id": "5819de15450843bb99f45d4bd6d3ca28",
       "version_major": 2,
       "version_minor": 0
      },
      "text/plain": [
       "  0%|          | 0/5 [00:00<?, ?it/s]"
      ]
     },
     "metadata": {},
     "output_type": "display_data"
    },
    {
     "name": "stdout",
     "output_type": "stream",
     "text": [
      "12 RESOURCES\n"
     ]
    },
    {
     "data": {
      "application/vnd.jupyter.widget-view+json": {
       "model_id": "6d93ec9cbca14bd2a5daa3040e5e6f7e",
       "version_major": 2,
       "version_minor": 0
      },
      "text/plain": [
       "  0%|          | 0/5 [00:00<?, ?it/s]"
      ]
     },
     "metadata": {},
     "output_type": "display_data"
    },
    {
     "name": "stdout",
     "output_type": "stream",
     "text": [
      "Warning: some rows of the throughput matrix have duplicated entries.\n",
      "Warning: some rows of the throughput matrix have duplicated entries.\n",
      "Warning: some rows of the throughput matrix have duplicated entries.\n",
      "23 RESOURCES\n"
     ]
    },
    {
     "data": {
      "application/vnd.jupyter.widget-view+json": {
       "model_id": "0a8ef6c3dc5e4e96a16ed8fef40109cc",
       "version_major": 2,
       "version_minor": 0
      },
      "text/plain": [
       "  0%|          | 0/5 [00:00<?, ?it/s]"
      ]
     },
     "metadata": {},
     "output_type": "display_data"
    },
    {
     "name": "stdout",
     "output_type": "stream",
     "text": [
      "Warning: some rows of the throughput matrix have duplicated entries.\n",
      "Warning: some rows of the throughput matrix have duplicated entries.\n",
      "Warning: some rows of the throughput matrix have duplicated entries.\n",
      "Warning: some rows of the throughput matrix have duplicated entries.\n",
      "34 RESOURCES\n"
     ]
    },
    {
     "data": {
      "application/vnd.jupyter.widget-view+json": {
       "model_id": "8fddbc58309b4ae4856e14ecf7a7e904",
       "version_major": 2,
       "version_minor": 0
      },
      "text/plain": [
       "  0%|          | 0/5 [00:00<?, ?it/s]"
      ]
     },
     "metadata": {},
     "output_type": "display_data"
    },
    {
     "name": "stdout",
     "output_type": "stream",
     "text": [
      "Warning: some rows of the throughput matrix have duplicated entries.\n",
      "Warning: some rows of the throughput matrix have duplicated entries.\n",
      "Warning: some rows of the throughput matrix have duplicated entries.\n",
      "Warning: some rows of the throughput matrix have duplicated entries.\n",
      "Warning: some rows of the throughput matrix have duplicated entries.\n",
      "45 RESOURCES\n"
     ]
    },
    {
     "data": {
      "application/vnd.jupyter.widget-view+json": {
       "model_id": "e6f2d995911e4c17a790b733e065202c",
       "version_major": 2,
       "version_minor": 0
      },
      "text/plain": [
       "  0%|          | 0/5 [00:00<?, ?it/s]"
      ]
     },
     "metadata": {},
     "output_type": "display_data"
    },
    {
     "name": "stdout",
     "output_type": "stream",
     "text": [
      "Warning: some rows of the throughput matrix have duplicated entries.\n",
      "Warning: some rows of the throughput matrix have duplicated entries.\n",
      "Warning: some rows of the throughput matrix have duplicated entries.\n",
      "Warning: some rows of the throughput matrix have duplicated entries.\n",
      "Warning: some rows of the throughput matrix have duplicated entries.\n",
      "56 RESOURCES\n"
     ]
    },
    {
     "data": {
      "application/vnd.jupyter.widget-view+json": {
       "model_id": "e8971378c65e4bd3b472aec2a232ad15",
       "version_major": 2,
       "version_minor": 0
      },
      "text/plain": [
       "  0%|          | 0/5 [00:00<?, ?it/s]"
      ]
     },
     "metadata": {},
     "output_type": "display_data"
    },
    {
     "name": "stdout",
     "output_type": "stream",
     "text": [
      "Warning: some rows of the throughput matrix have duplicated entries.\n",
      "Warning: some rows of the throughput matrix have duplicated entries.\n",
      "Warning: some rows of the throughput matrix have duplicated entries.\n",
      "Warning: some rows of the throughput matrix have duplicated entries.\n",
      "Warning: some rows of the throughput matrix have duplicated entries.\n",
      "67 RESOURCES\n"
     ]
    },
    {
     "data": {
      "application/vnd.jupyter.widget-view+json": {
       "model_id": "9c3902f244cf4fc2ab78204710eb0f77",
       "version_major": 2,
       "version_minor": 0
      },
      "text/plain": [
       "  0%|          | 0/5 [00:00<?, ?it/s]"
      ]
     },
     "metadata": {},
     "output_type": "display_data"
    },
    {
     "name": "stdout",
     "output_type": "stream",
     "text": [
      "Warning: some rows of the throughput matrix have duplicated entries.\n",
      "Warning: some rows of the throughput matrix have duplicated entries.\n",
      "Warning: some rows of the throughput matrix have duplicated entries.\n",
      "Warning: some rows of the throughput matrix have duplicated entries.\n",
      "Warning: some rows of the throughput matrix have duplicated entries.\n",
      "78 RESOURCES\n"
     ]
    },
    {
     "data": {
      "application/vnd.jupyter.widget-view+json": {
       "model_id": "7131bfd166c14e768957922b518cd703",
       "version_major": 2,
       "version_minor": 0
      },
      "text/plain": [
       "  0%|          | 0/5 [00:00<?, ?it/s]"
      ]
     },
     "metadata": {},
     "output_type": "display_data"
    },
    {
     "name": "stdout",
     "output_type": "stream",
     "text": [
      "Warning: some rows of the throughput matrix have duplicated entries.\n",
      "Warning: some rows of the throughput matrix have duplicated entries.\n",
      "Warning: some rows of the throughput matrix have duplicated entries.\n",
      "Warning: some rows of the throughput matrix have duplicated entries.\n",
      "Warning: some rows of the throughput matrix have duplicated entries.\n",
      "89 RESOURCES\n"
     ]
    },
    {
     "data": {
      "application/vnd.jupyter.widget-view+json": {
       "model_id": "9f8be5345b564d7bb8b98ea16fe9de26",
       "version_major": 2,
       "version_minor": 0
      },
      "text/plain": [
       "  0%|          | 0/5 [00:00<?, ?it/s]"
      ]
     },
     "metadata": {},
     "output_type": "display_data"
    },
    {
     "name": "stdout",
     "output_type": "stream",
     "text": [
      "Warning: some rows of the throughput matrix have duplicated entries.\n",
      "Warning: some rows of the throughput matrix have duplicated entries.\n",
      "Warning: some rows of the throughput matrix have duplicated entries.\n",
      "Warning: some rows of the throughput matrix have duplicated entries.\n",
      "Warning: some rows of the throughput matrix have duplicated entries.\n",
      "100 RESOURCES\n"
     ]
    },
    {
     "data": {
      "application/vnd.jupyter.widget-view+json": {
       "model_id": "6cf2ce7f9ac84608ad591b39f7b6064a",
       "version_major": 2,
       "version_minor": 0
      },
      "text/plain": [
       "  0%|          | 0/5 [00:00<?, ?it/s]"
      ]
     },
     "metadata": {},
     "output_type": "display_data"
    },
    {
     "name": "stdout",
     "output_type": "stream",
     "text": [
      "Warning: some rows of the throughput matrix have duplicated entries.\n",
      "Warning: some rows of the throughput matrix have duplicated entries.\n",
      "Warning: some rows of the throughput matrix have duplicated entries.\n",
      "Warning: some rows of the throughput matrix have duplicated entries.\n",
      "Warning: some rows of the throughput matrix have duplicated entries.\n"
     ]
    }
   ],
   "source": [
    "cpu_stats = benchmark('cpu', jobs, resources, n_trials)"
   ]
  },
  {
   "cell_type": "code",
   "execution_count": 7,
   "metadata": {},
   "outputs": [],
   "source": [
    "jobs_j = list(map(int, [1e2, 1e3, 1e4, 1e5, 1e6, 1e7]))\n",
    "resources_j = [4]*len(jobs_j)"
   ]
  },
  {
   "cell_type": "code",
   "execution_count": 8,
   "metadata": {},
   "outputs": [
    {
     "data": {
      "application/vnd.jupyter.widget-view+json": {
       "model_id": "47bd19fde2b84bafbf67c49c508b50dc",
       "version_major": 2,
       "version_minor": 0
      },
      "text/plain": [
       "  0%|          | 0/6 [00:00<?, ?it/s]"
      ]
     },
     "metadata": {},
     "output_type": "display_data"
    },
    {
     "name": "stdout",
     "output_type": "stream",
     "text": [
      "4 RESOURCES\n"
     ]
    },
    {
     "data": {
      "application/vnd.jupyter.widget-view+json": {
       "model_id": "8c43f218a1b44a3ca0a2eee607848e53",
       "version_major": 2,
       "version_minor": 0
      },
      "text/plain": [
       "  0%|          | 0/5 [00:00<?, ?it/s]"
      ]
     },
     "metadata": {},
     "output_type": "display_data"
    },
    {
     "name": "stdout",
     "output_type": "stream",
     "text": [
      "4 RESOURCES\n"
     ]
    },
    {
     "data": {
      "application/vnd.jupyter.widget-view+json": {
       "model_id": "bb53542b0ad74174a78664e9bd1cd5ab",
       "version_major": 2,
       "version_minor": 0
      },
      "text/plain": [
       "  0%|          | 0/5 [00:00<?, ?it/s]"
      ]
     },
     "metadata": {},
     "output_type": "display_data"
    },
    {
     "name": "stdout",
     "output_type": "stream",
     "text": [
      "4 RESOURCES\n"
     ]
    },
    {
     "data": {
      "application/vnd.jupyter.widget-view+json": {
       "model_id": "046c05be468746e49923dfc9d7dd9ee1",
       "version_major": 2,
       "version_minor": 0
      },
      "text/plain": [
       "  0%|          | 0/5 [00:00<?, ?it/s]"
      ]
     },
     "metadata": {},
     "output_type": "display_data"
    },
    {
     "name": "stdout",
     "output_type": "stream",
     "text": [
      "4 RESOURCES\n"
     ]
    },
    {
     "data": {
      "application/vnd.jupyter.widget-view+json": {
       "model_id": "f336d21810264c428d616ae456a3051e",
       "version_major": 2,
       "version_minor": 0
      },
      "text/plain": [
       "  0%|          | 0/5 [00:00<?, ?it/s]"
      ]
     },
     "metadata": {},
     "output_type": "display_data"
    },
    {
     "name": "stdout",
     "output_type": "stream",
     "text": [
      "4 RESOURCES\n"
     ]
    },
    {
     "data": {
      "application/vnd.jupyter.widget-view+json": {
       "model_id": "c740bf766e9e4023b25bda6fe2058381",
       "version_major": 2,
       "version_minor": 0
      },
      "text/plain": [
       "  0%|          | 0/5 [00:00<?, ?it/s]"
      ]
     },
     "metadata": {},
     "output_type": "display_data"
    },
    {
     "name": "stdout",
     "output_type": "stream",
     "text": [
      "Warning: some rows of the throughput matrix have duplicated entries.\n",
      "Warning: some rows of the throughput matrix have duplicated entries.\n",
      "Warning: some rows of the throughput matrix have duplicated entries.\n",
      "4 RESOURCES\n"
     ]
    },
    {
     "data": {
      "application/vnd.jupyter.widget-view+json": {
       "model_id": "e7dbc65502db4f80bcbbf95ec60ce0d7",
       "version_major": 2,
       "version_minor": 0
      },
      "text/plain": [
       "  0%|          | 0/5 [00:00<?, ?it/s]"
      ]
     },
     "metadata": {},
     "output_type": "display_data"
    },
    {
     "name": "stdout",
     "output_type": "stream",
     "text": [
      "Warning: some rows of the throughput matrix have duplicated entries.\n",
      "Warning: some rows of the throughput matrix have duplicated entries.\n",
      "Warning: some rows of the throughput matrix have duplicated entries.\n",
      "Warning: some rows of the throughput matrix have duplicated entries.\n",
      "Warning: some rows of the throughput matrix have duplicated entries.\n"
     ]
    }
   ],
   "source": [
    "gpu_stats_j = benchmark('cuda', jobs_j, resources_j, n_trials)\n",
    "cpu_stats_j = benchmark('cpu', jobs_j, resources_j, n_trials)"
   ]
  },
  {
   "cell_type": "code",
   "execution_count": 52,
   "metadata": {},
   "outputs": [
    {
     "name": "stdout",
     "output_type": "stream",
     "text": [
      "0.0014499234446240462\n",
      "2.0313552904695404\n",
      "6.74958287516051e-05\n",
      "1.748695236968488\n",
      "1.6170273979732102e-07\n",
      "1.051487265122501\n",
      "1.7333945162643855e-07\n",
      "0.8144489170947226\n"
     ]
    },
    {
     "data": {
      "text/plain": [
       "array([0.00204711, 0.00360011, 0.00500879, 0.00633124, 0.00759307,\n",
       "       0.00880859, 0.00998691, 0.01113429, 0.0122553 , 0.01335337,\n",
       "       0.01443122, 0.01549102, 0.01653453, 0.01756324, 0.0185784 ,\n",
       "       0.01958106, 0.02057216, 0.02155248, 0.02252275, 0.02348359,\n",
       "       0.02443555, 0.02537913, 0.02631478, 0.02724291, 0.0281639 ,\n",
       "       0.02907807, 0.02998573, 0.03088718, 0.03178268, 0.03267246,\n",
       "       0.03355675, 0.03443577, 0.0353097 , 0.03617873, 0.03704303,\n",
       "       0.03790276, 0.03875808, 0.03960911, 0.04045599, 0.04129886,\n",
       "       0.04213782, 0.042973  , 0.04380449, 0.0446324 , 0.04545683,\n",
       "       0.04627787, 0.0470956 , 0.0479101 , 0.04872147, 0.04952977,\n",
       "       0.05033507, 0.05113745, 0.05193697, 0.0527337 , 0.05352769,\n",
       "       0.05431901, 0.05510771, 0.05589385, 0.05667748, 0.05745864,\n",
       "       0.0582374 , 0.05901379, 0.05978785, 0.06055965, 0.0613292 ,\n",
       "       0.06209657, 0.06286178, 0.06362487, 0.06438588, 0.06514485,\n",
       "       0.06590181, 0.0666568 , 0.06740984, 0.06816097, 0.06891022,\n",
       "       0.06965761, 0.07040319, 0.07114697, 0.07188898, 0.07262925,\n",
       "       0.07336781, 0.07410468, 0.07483988, 0.07557344, 0.07630538,\n",
       "       0.07703572, 0.0777645 , 0.07849171, 0.0792174 , 0.07994157,\n",
       "       0.08066426, 0.08138547, 0.08210523, 0.08282355, 0.08354046,\n",
       "       0.08425597, 0.08497009, 0.08568285, 0.08639427, 0.08710435])"
      ]
     },
     "execution_count": 52,
     "metadata": {},
     "output_type": "execute_result"
    }
   ],
   "source": [
    "import cvxpy as cp\n",
    "\n",
    "def times_errs(stats):\n",
    "    times = np.array([s.mean for s in stats])\n",
    "    up_err = [s.max - s.mean for s in stats]\n",
    "    down_err = [s.mean - s.min for s in stats]\n",
    "    yerr = np.array([up_err, down_err])\n",
    "    return times, yerr\n",
    "\n",
    "cpu_t, cpu_err = times_errs(cpu_stats)\n",
    "cpu_t_j, cpu_err_j = times_errs(cpu_stats_j)\n",
    "\n",
    "a = cp.Variable()\n",
    "b = cp.Variable()\n",
    "\n",
    "start = 1\n",
    "targets = np.log(cpu_t)\n",
    "residuals = cp.sum_squares(targets[start:] - (a + b*np.log(resources[start:])))\n",
    "problem = cp.Problem(cp.Minimize(residuals))\n",
    "problem.solve()\n",
    "\n",
    "print(np.exp(a.value))\n",
    "print(b.value)\n",
    "\n",
    "cpu_t_inputs = np.linspace(resources[start], 100, 100)\n",
    "cpu_t_quad_fit = np.exp((a.value + b.value*(np.log(cpu_t_inputs))))\n",
    "cpu_t_quad_fit\n",
    "\n",
    "a = cp.Variable()\n",
    "b = cp.Variable()\n",
    "\n",
    "targets = np.log(gpu_t)\n",
    "start = 1\n",
    "residuals = cp.sum_squares(targets[start:] - (a + b*np.log(resources[start:].cpu().numpy())))\n",
    "problem = cp.Problem(cp.Minimize(residuals))\n",
    "problem.solve()\n",
    "\n",
    "print(np.exp(a.value))\n",
    "print(b.value)\n",
    "\n",
    "gpu_t_inputs = np.linspace(resources[start], resources[-1], 100)\n",
    "gpu_t_fit = np.exp(a.value + b.value*(np.log(gpu_t_inputs)))\n",
    "gpu_t_fit\n",
    "\n",
    "\n",
    "a = cp.Variable()\n",
    "b = cp.Variable()\n",
    "\n",
    "targets = np.log(cpu_t_j)\n",
    "start = 2\n",
    "residuals = cp.sum_squares(targets[start:] - (a + b*np.log(np.array(jobs_j[start:]))))\n",
    "problem = cp.Problem(cp.Minimize(residuals))\n",
    "problem.solve()\n",
    "\n",
    "print(np.exp(a.value))\n",
    "print(b.value)\n",
    "\n",
    "cpu_t_j_inputs = np.linspace(jobs_j[start], jobs_j[-1], 100)\n",
    "cpu_t_j_fit = np.exp((a.value + b.value*(np.log(cpu_t_j_inputs))))\n",
    "cpu_t_j_fit\n",
    "\n",
    "a = cp.Variable()\n",
    "b = cp.Variable()\n",
    "\n",
    "start = 3\n",
    "targets = np.log(gpu_t_j)\n",
    "residuals = cp.sum_squares(targets[start:] - (a + b*np.log(np.array(jobs_j[start:]))))\n",
    "problem = cp.Problem(cp.Minimize(residuals))\n",
    "problem.solve()\n",
    "\n",
    "print(np.exp(a.value))\n",
    "print(b.value)\n",
    "\n",
    "gpu_t_j_inputs = np.linspace(jobs_j[start], jobs_j[-1], 100)\n",
    "gpu_t_j_fit = np.exp(a.value + b.value*(np.log(gpu_t_j_inputs)))\n",
    "gpu_t_j_fit\n"
   ]
  },
  {
   "cell_type": "code",
   "execution_count": 46,
   "metadata": {},
   "outputs": [
    {
     "data": {
      "image/png": "[encoded data removed]",
      "text/plain": [
       "<Figure size 410.4x489.6 with 2 Axes>"
      ]
     },
     "metadata": {
      "needs_background": "light"
     },
     "output_type": "display_data"
    }
   ],
   "source": [
    "fig, axs = plt.subplots(2, 1, figsize=(5.7, 6.8))\n",
    "\n",
    "axs[0].set_xscale('log')\n",
    "axs[0].set_yscale('log')\n",
    "axs[0].plot(resources, gpu_t, label='gpu')\n",
    "axs[0].plot(resources, cpu_t, label='cpu')\n",
    "axs[0].plot(cpu_t_inputs, cpu_t_quad_fit, linestyle='--')\n",
    "axs[0].plot(gpu_t_inputs, gpu_t_fit, linestyle='--')\n",
    "axs[0].set_xlabel('number of resources')\n",
    "axs[0].set_ylabel('seconds')\n",
    "axs[0].legend()\n",
    "\n",
    "axs[1].set_xscale('log')\n",
    "axs[1].set_yscale('log')\n",
    "axs[1].plot(jobs_j, gpu_t_j, label='gpu')\n",
    "axs[1].plot(jobs_j, cpu_t_j, label='cpu')\n",
    "axs[1].plot(cpu_t_j_inputs, cpu_t_j_fit, linestyle='--')\n",
    "axs[1].plot(gpu_t_j_inputs, gpu_t_j_fit, linestyle='--')\n",
    "axs[1].set_xlabel('number of jobs')\n",
    "axs[1].set_ylabel('seconds')\n",
    "axs[1].legend()\n",
    "plt.tight_layout()\n",
    "plt.savefig('scaling.pdf')"
   ]
  },
  {
   "cell_type": "code",
   "execution_count": 51,
   "metadata": {},
   "outputs": [
    {
     "data": {
      "image/png": "[encoded data removed]",
      "text/plain": [
       "<Figure size 410.4x489.6 with 2 Axes>"
      ]
     },
     "metadata": {
      "needs_background": "light"
     },
     "output_type": "display_data"
    }
   ],
   "source": [
    "fig, axs = plt.subplots(2, 1, figsize=(5.7, 6.8))\n",
    "\n",
    "axs[0].plot(resources, gpu_t, label='gpu')\n",
    "axs[0].plot(resources, cpu_t, label='cpu')\n",
    "axs[0].set_xlabel('number of resources')\n",
    "axs[0].set_ylabel('seconds')\n",
    "axs[0].legend()\n",
    "\n",
    "axs[1].plot(jobs_j, gpu_t_j, label='gpu')\n",
    "axs[1].plot(jobs_j, cpu_t_j, label='cpu')\n",
    "axs[1].set_xlabel('number of jobs')\n",
    "axs[1].set_ylabel('seconds')\n",
    "axs[1].legend()\n",
    "plt.tight_layout()"
   ]
  }
 ],
 "metadata": {
  "kernelspec": {
   "display_name": "Python 3",
   "language": "python",
   "name": "python3"
  },
  "language_info": {
   "codemirror_mode": {
    "name": "ipython",
    "version": 3
   },
   "file_extension": ".py",
   "mimetype": "text/x-python",
   "name": "python",
   "nbconvert_exporter": "python",
   "pygments_lexer": "ipython3",
   "version": "3.8.6"
  }
 },
 "nbformat": 4,
 "nbformat_minor": 4
}
