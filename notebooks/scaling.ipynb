{
 "cells": [
  {
   "cell_type": "code",
   "execution_count": 1,
   "metadata": {},
   "outputs": [],
   "source": [
    "import cvxpy as cp\n",
    "import matplotlib.pyplot as plt\n",
    "import numpy as np\n",
    "import torch\n",
    "\n",
    "from resalloc.fungible import AllocationProblem\n",
    "from resalloc.fungible import utilities\n",
    "\n",
    "from latexify import latexify\n",
    "latexify()"
   ]
  },
  {
   "cell_type": "code",
   "execution_count": 2,
   "metadata": {},
   "outputs": [],
   "source": [
    "def make_problem(n_jobs, n_resources, device):\n",
    "\n",
    "    resource_limits = torch.rand(n_resources, device=device) * n_jobs + 1e3\n",
    "    job_demands = None\n",
    "    utility_fn = utilities.Log()\n",
    "    \n",
    "    max_tries = 50\n",
    "    tries = 0\n",
    "        \n",
    "    throughput_matrix = torch.tensor(\n",
    "        np.random.uniform(low=1., high=2., size=(n_jobs, n_resources))\n",
    "    ).float()\n",
    "    throughput_matrix = throughput_matrix.to(device)\n",
    "\n",
    "    problem = AllocationProblem(\n",
    "        throughput_matrix,\n",
    "        resource_limits=resource_limits,\n",
    "        job_demands=job_demands,\n",
    "        utility_function=utility_fn\n",
    "    )\n",
    "    return problem"
   ]
  },
  {
   "cell_type": "code",
   "execution_count": 3,
   "metadata": {},
   "outputs": [],
   "source": [
    "from collections import namedtuple\n",
    "\n",
    "Stats = namedtuple('Stats', ['mean', 'std', 'min', 'max'])"
   ]
  },
  {
   "cell_type": "code",
   "execution_count": 4,
   "metadata": {},
   "outputs": [],
   "source": [
    "from tqdm.auto import tqdm\n",
    "import time\n",
    "\n",
    "resources = torch.tensor(np.linspace(start=2, stop=100, num=10)).int()\n",
    "jobs = [int(1e5)]*len(resources)\n",
    "n_trials = 5\n",
    "\n",
    "def benchmark(device, jobs, resources, n_trials):\n",
    "    device_times = []\n",
    "    for j, r in tqdm(list(zip(jobs, resources))):\n",
    "        print(f'{r} RESOURCES')\n",
    "\n",
    "        torch.manual_seed(0)\n",
    "        np.random.seed(0)\n",
    "\n",
    "        times = []\n",
    "        for i in tqdm(range(n_trials)):\n",
    "            problem = make_problem(j, r, device)\n",
    "            prices = problem.utility_fn.initial_prices(problem)\n",
    "            start = time.time()\n",
    "            #_, stats = problem.solve(eps=eps, max_iter=max_iter, print_every=1, verbose=False)\n",
    "            problem.evaluate_dual_function(prices)\n",
    "            if device == 'cuda':\n",
    "                torch.cuda.synchronize()\n",
    "            end = time.time()\n",
    "            del problem\n",
    "            times.append(end - start)\n",
    "        times = np.array(times)\n",
    "        mean = np.mean(times)\n",
    "        std = np.std(times)\n",
    "        min_ = np.min(times)\n",
    "        max_ = np.max(times)\n",
    "        device_times.append(Stats(mean, std, min_, max_))\n",
    "    return device_times\n"
   ]
  },
  {
   "cell_type": "code",
   "execution_count": 5,
   "metadata": {},
   "outputs": [],
   "source": [
    "#gpu_stats = benchmark('cuda', jobs, resources, n_trials)"
   ]
  },
  {
   "cell_type": "code",
   "execution_count": 6,
   "metadata": {},
   "outputs": [
    {
     "data": {
      "application/vnd.jupyter.widget-view+json": {
       "model_id": "a90880a158d04df9a2fe3f41491de4e6",
       "version_major": 2,
       "version_minor": 0
      },
      "text/plain": [
       "  0%|          | 0/10 [00:00<?, ?it/s]"
      ]
     },
     "metadata": {},
     "output_type": "display_data"
    },
    {
     "name": "stdout",
     "output_type": "stream",
     "text": [
      "2 RESOURCES\n"
     ]
    },
    {
     "data": {
      "application/vnd.jupyter.widget-view+json": {
       "model_id": "5819de15450843bb99f45d4bd6d3ca28",
       "version_major": 2,
       "version_minor": 0
      },
      "text/plain": [
       "  0%|          | 0/5 [00:00<?, ?it/s]"
      ]
     },
     "metadata": {},
     "output_type": "display_data"
    },
    {
     "name": "stdout",
     "output_type": "stream",
     "text": [
      "12 RESOURCES\n"
     ]
    },
    {
     "data": {
      "application/vnd.jupyter.widget-view+json": {
       "model_id": "6d93ec9cbca14bd2a5daa3040e5e6f7e",
       "version_major": 2,
       "version_minor": 0
      },
      "text/plain": [
       "  0%|          | 0/5 [00:00<?, ?it/s]"
      ]
     },
     "metadata": {},
     "output_type": "display_data"
    },
    {
     "name": "stdout",
     "output_type": "stream",
     "text": [
      "Warning: some rows of the throughput matrix have duplicated entries.\n",
      "Warning: some rows of the throughput matrix have duplicated entries.\n",
      "Warning: some rows of the throughput matrix have duplicated entries.\n",
      "23 RESOURCES\n"
     ]
    },
    {
     "data": {
      "application/vnd.jupyter.widget-view+json": {
       "model_id": "0a8ef6c3dc5e4e96a16ed8fef40109cc",
       "version_major": 2,
       "version_minor": 0
      },
      "text/plain": [
       "  0%|          | 0/5 [00:00<?, ?it/s]"
      ]
     },
     "metadata": {},
     "output_type": "display_data"
    },
    {
     "name": "stdout",
     "output_type": "stream",
     "text": [
      "Warning: some rows of the throughput matrix have duplicated entries.\n",
      "Warning: some rows of the throughput matrix have duplicated entries.\n",
      "Warning: some rows of the throughput matrix have duplicated entries.\n",
      "Warning: some rows of the throughput matrix have duplicated entries.\n",
      "34 RESOURCES\n"
     ]
    },
    {
     "data": {
      "application/vnd.jupyter.widget-view+json": {
       "model_id": "8fddbc58309b4ae4856e14ecf7a7e904",
       "version_major": 2,
       "version_minor": 0
      },
      "text/plain": [
       "  0%|          | 0/5 [00:00<?, ?it/s]"
      ]
     },
     "metadata": {},
     "output_type": "display_data"
    },
    {
     "name": "stdout",
     "output_type": "stream",
     "text": [
      "Warning: some rows of the throughput matrix have duplicated entries.\n",
      "Warning: some rows of the throughput matrix have duplicated entries.\n",
      "Warning: some rows of the throughput matrix have duplicated entries.\n",
      "Warning: some rows of the throughput matrix have duplicated entries.\n",
      "Warning: some rows of the throughput matrix have duplicated entries.\n",
      "45 RESOURCES\n"
     ]
    },
    {
     "data": {
      "application/vnd.jupyter.widget-view+json": {
       "model_id": "e6f2d995911e4c17a790b733e065202c",
       "version_major": 2,
       "version_minor": 0
      },
      "text/plain": [
       "  0%|          | 0/5 [00:00<?, ?it/s]"
      ]
     },
     "metadata": {},
     "output_type": "display_data"
    },
    {
     "name": "stdout",
     "output_type": "stream",
     "text": [
      "Warning: some rows of the throughput matrix have duplicated entries.\n",
      "Warning: some rows of the throughput matrix have duplicated entries.\n",
      "Warning: some rows of the throughput matrix have duplicated entries.\n",
      "Warning: some rows of the throughput matrix have duplicated entries.\n",
      "Warning: some rows of the throughput matrix have duplicated entries.\n",
      "56 RESOURCES\n"
     ]
    },
    {
     "data": {
      "application/vnd.jupyter.widget-view+json": {
       "model_id": "e8971378c65e4bd3b472aec2a232ad15",
       "version_major": 2,
       "version_minor": 0
      },
      "text/plain": [
       "  0%|          | 0/5 [00:00<?, ?it/s]"
      ]
     },
     "metadata": {},
     "output_type": "display_data"
    },
    {
     "name": "stdout",
     "output_type": "stream",
     "text": [
      "Warning: some rows of the throughput matrix have duplicated entries.\n",
      "Warning: some rows of the throughput matrix have duplicated entries.\n",
      "Warning: some rows of the throughput matrix have duplicated entries.\n",
      "Warning: some rows of the throughput matrix have duplicated entries.\n",
      "Warning: some rows of the throughput matrix have duplicated entries.\n",
      "67 RESOURCES\n"
     ]
    },
    {
     "data": {
      "application/vnd.jupyter.widget-view+json": {
       "model_id": "9c3902f244cf4fc2ab78204710eb0f77",
       "version_major": 2,
       "version_minor": 0
      },
      "text/plain": [
       "  0%|          | 0/5 [00:00<?, ?it/s]"
      ]
     },
     "metadata": {},
     "output_type": "display_data"
    },
    {
     "name": "stdout",
     "output_type": "stream",
     "text": [
      "Warning: some rows of the throughput matrix have duplicated entries.\n",
      "Warning: some rows of the throughput matrix have duplicated entries.\n",
      "Warning: some rows of the throughput matrix have duplicated entries.\n",
      "Warning: some rows of the throughput matrix have duplicated entries.\n",
      "Warning: some rows of the throughput matrix have duplicated entries.\n",
      "78 RESOURCES\n"
     ]
    },
    {
     "data": {
      "application/vnd.jupyter.widget-view+json": {
       "model_id": "7131bfd166c14e768957922b518cd703",
       "version_major": 2,
       "version_minor": 0
      },
      "text/plain": [
       "  0%|          | 0/5 [00:00<?, ?it/s]"
      ]
     },
     "metadata": {},
     "output_type": "display_data"
    },
    {
     "name": "stdout",
     "output_type": "stream",
     "text": [
      "Warning: some rows of the throughput matrix have duplicated entries.\n",
      "Warning: some rows of the throughput matrix have duplicated entries.\n",
      "Warning: some rows of the throughput matrix have duplicated entries.\n",
      "Warning: some rows of the throughput matrix have duplicated entries.\n",
      "Warning: some rows of the throughput matrix have duplicated entries.\n",
      "89 RESOURCES\n"
     ]
    },
    {
     "data": {
      "application/vnd.jupyter.widget-view+json": {
       "model_id": "9f8be5345b564d7bb8b98ea16fe9de26",
       "version_major": 2,
       "version_minor": 0
      },
      "text/plain": [
       "  0%|          | 0/5 [00:00<?, ?it/s]"
      ]
     },
     "metadata": {},
     "output_type": "display_data"
    },
    {
     "name": "stdout",
     "output_type": "stream",
     "text": [
      "Warning: some rows of the throughput matrix have duplicated entries.\n",
      "Warning: some rows of the throughput matrix have duplicated entries.\n",
      "Warning: some rows of the throughput matrix have duplicated entries.\n",
      "Warning: some rows of the throughput matrix have duplicated entries.\n",
      "Warning: some rows of the throughput matrix have duplicated entries.\n",
      "100 RESOURCES\n"
     ]
    },
    {
     "data": {
      "application/vnd.jupyter.widget-view+json": {
       "model_id": "6cf2ce7f9ac84608ad591b39f7b6064a",
       "version_major": 2,
       "version_minor": 0
      },
      "text/plain": [
       "  0%|          | 0/5 [00:00<?, ?it/s]"
      ]
     },
     "metadata": {},
     "output_type": "display_data"
    },
    {
     "name": "stdout",
     "output_type": "stream",
     "text": [
      "Warning: some rows of the throughput matrix have duplicated entries.\n",
      "Warning: some rows of the throughput matrix have duplicated entries.\n",
      "Warning: some rows of the throughput matrix have duplicated entries.\n",
      "Warning: some rows of the throughput matrix have duplicated entries.\n",
      "Warning: some rows of the throughput matrix have duplicated entries.\n"
     ]
    }
   ],
   "source": [
    "cpu_stats = benchmark('cpu', jobs, resources, n_trials)"
   ]
  },
  {
   "cell_type": "code",
   "execution_count": 7,
   "metadata": {},
   "outputs": [],
   "source": [
    "jobs_j = list(map(int, [1e2, 1e3, 1e4, 1e5, 1e6, 1e7]))\n",
    "resources_j = [4]*len(jobs_j)"
   ]
  },
  {
   "cell_type": "code",
   "execution_count": 8,
   "metadata": {},
   "outputs": [
    {
     "data": {
      "application/vnd.jupyter.widget-view+json": {
       "model_id": "47bd19fde2b84bafbf67c49c508b50dc",
       "version_major": 2,
       "version_minor": 0
      },
      "text/plain": [
       "  0%|          | 0/6 [00:00<?, ?it/s]"
      ]
     },
     "metadata": {},
     "output_type": "display_data"
    },
    {
     "name": "stdout",
     "output_type": "stream",
     "text": [
      "4 RESOURCES\n"
     ]
    },
    {
     "data": {
      "application/vnd.jupyter.widget-view+json": {
       "model_id": "8c43f218a1b44a3ca0a2eee607848e53",
       "version_major": 2,
       "version_minor": 0
      },
      "text/plain": [
       "  0%|          | 0/5 [00:00<?, ?it/s]"
      ]
     },
     "metadata": {},
     "output_type": "display_data"
    },
    {
     "name": "stdout",
     "output_type": "stream",
     "text": [
      "4 RESOURCES\n"
     ]
    },
    {
     "data": {
      "application/vnd.jupyter.widget-view+json": {
       "model_id": "bb53542b0ad74174a78664e9bd1cd5ab",
       "version_major": 2,
       "version_minor": 0
      },
      "text/plain": [
       "  0%|          | 0/5 [00:00<?, ?it/s]"
      ]
     },
     "metadata": {},
     "output_type": "display_data"
    },
    {
     "name": "stdout",
     "output_type": "stream",
     "text": [
      "4 RESOURCES\n"
     ]
    },
    {
     "data": {
      "application/vnd.jupyter.widget-view+json": {
       "model_id": "046c05be468746e49923dfc9d7dd9ee1",
       "version_major": 2,
       "version_minor": 0
      },
      "text/plain": [
       "  0%|          | 0/5 [00:00<?, ?it/s]"
      ]
     },
     "metadata": {},
     "output_type": "display_data"
    },
    {
     "name": "stdout",
     "output_type": "stream",
     "text": [
      "4 RESOURCES\n"
     ]
    },
    {
     "data": {
      "application/vnd.jupyter.widget-view+json": {
       "model_id": "f336d21810264c428d616ae456a3051e",
       "version_major": 2,
       "version_minor": 0
      },
      "text/plain": [
       "  0%|          | 0/5 [00:00<?, ?it/s]"
      ]
     },
     "metadata": {},
     "output_type": "display_data"
    },
    {
     "name": "stdout",
     "output_type": "stream",
     "text": [
      "4 RESOURCES\n"
     ]
    },
    {
     "data": {
      "application/vnd.jupyter.widget-view+json": {
       "model_id": "c740bf766e9e4023b25bda6fe2058381",
       "version_major": 2,
       "version_minor": 0
      },
      "text/plain": [
       "  0%|          | 0/5 [00:00<?, ?it/s]"
      ]
     },
     "metadata": {},
     "output_type": "display_data"
    },
    {
     "name": "stdout",
     "output_type": "stream",
     "text": [
      "Warning: some rows of the throughput matrix have duplicated entries.\n",
      "Warning: some rows of the throughput matrix have duplicated entries.\n",
      "Warning: some rows of the throughput matrix have duplicated entries.\n",
      "4 RESOURCES\n"
     ]
    },
    {
     "data": {
      "application/vnd.jupyter.widget-view+json": {
       "model_id": "e7dbc65502db4f80bcbbf95ec60ce0d7",
       "version_major": 2,
       "version_minor": 0
      },
      "text/plain": [
       "  0%|          | 0/5 [00:00<?, ?it/s]"
      ]
     },
     "metadata": {},
     "output_type": "display_data"
    },
    {
     "name": "stdout",
     "output_type": "stream",
     "text": [
      "Warning: some rows of the throughput matrix have duplicated entries.\n",
      "Warning: some rows of the throughput matrix have duplicated entries.\n",
      "Warning: some rows of the throughput matrix have duplicated entries.\n",
      "Warning: some rows of the throughput matrix have duplicated entries.\n",
      "Warning: some rows of the throughput matrix have duplicated entries.\n"
     ]
    }
   ],
   "source": [
    "#gpu_stats_j = benchmark('cuda', jobs_j, resources_j, n_trials)\n",
    "cpu_stats_j = benchmark('cpu', jobs_j, resources_j, n_trials)"
   ]
  },
  {
   "cell_type": "code",
   "execution_count": 9,
   "metadata": {},
   "outputs": [],
   "source": [
    "gpu_t = np.load('output/gpu_t.npy')\n",
    "gpu_err = np.load('output/gpu_err.npy')\n",
    "gpu_t_j = np.load('output/gpu_t_j.npy')\n",
    "gpu_err_j = np.load('output/gpu_err_j.npy')"
   ]
  },
  {
   "cell_type": "code",
   "execution_count": 10,
   "metadata": {},
   "outputs": [
    {
     "name": "stdout",
     "output_type": "stream",
     "text": [
      "0.002837371826171875\n"
     ]
    }
   ],
   "source": [
    "print(cpu_stats_j[2].mean)"
   ]
  },
  {
   "cell_type": "code",
   "execution_count": 52,
   "metadata": {},
   "outputs": [
    {
     "name": "stdout",
     "output_type": "stream",
     "text": [
      "0.0014499234446240462\n",
      "2.0313552904695404\n",
      "6.74958287516051e-05\n",
      "1.748695236968488\n",
      "1.6170273979732102e-07\n",
      "1.051487265122501\n",
      "1.7333945162643855e-07\n",
      "0.8144489170947226\n"
     ]
    },
    {
     "data": {
      "text/plain": [
       "array([0.00204711, 0.00360011, 0.00500879, 0.00633124, 0.00759307,\n",
       "       0.00880859, 0.00998691, 0.01113429, 0.0122553 , 0.01335337,\n",
       "       0.01443122, 0.01549102, 0.01653453, 0.01756324, 0.0185784 ,\n",
       "       0.01958106, 0.02057216, 0.02155248, 0.02252275, 0.02348359,\n",
       "       0.02443555, 0.02537913, 0.02631478, 0.02724291, 0.0281639 ,\n",
       "       0.02907807, 0.02998573, 0.03088718, 0.03178268, 0.03267246,\n",
       "       0.03355675, 0.03443577, 0.0353097 , 0.03617873, 0.03704303,\n",
       "       0.03790276, 0.03875808, 0.03960911, 0.04045599, 0.04129886,\n",
       "       0.04213782, 0.042973  , 0.04380449, 0.0446324 , 0.04545683,\n",
       "       0.04627787, 0.0470956 , 0.0479101 , 0.04872147, 0.04952977,\n",
       "       0.05033507, 0.05113745, 0.05193697, 0.0527337 , 0.05352769,\n",
       "       0.05431901, 0.05510771, 0.05589385, 0.05667748, 0.05745864,\n",
       "       0.0582374 , 0.05901379, 0.05978785, 0.06055965, 0.0613292 ,\n",
       "       0.06209657, 0.06286178, 0.06362487, 0.06438588, 0.06514485,\n",
       "       0.06590181, 0.0666568 , 0.06740984, 0.06816097, 0.06891022,\n",
       "       0.06965761, 0.07040319, 0.07114697, 0.07188898, 0.07262925,\n",
       "       0.07336781, 0.07410468, 0.07483988, 0.07557344, 0.07630538,\n",
       "       0.07703572, 0.0777645 , 0.07849171, 0.0792174 , 0.07994157,\n",
       "       0.08066426, 0.08138547, 0.08210523, 0.08282355, 0.08354046,\n",
       "       0.08425597, 0.08497009, 0.08568285, 0.08639427, 0.08710435])"
      ]
     },
     "execution_count": 52,
     "metadata": {},
     "output_type": "execute_result"
    }
   ],
   "source": [
    "import cvxpy as cp\n",
    "\n",
    "def times_errs(stats):\n",
    "    times = np.array([s.mean for s in stats])\n",
    "    up_err = [s.max - s.mean for s in stats]\n",
    "    down_err = [s.mean - s.min for s in stats]\n",
    "    yerr = np.array([up_err, down_err])\n",
    "    return times, yerr\n",
    "\n",
    "cpu_t, cpu_err = times_errs(cpu_stats)\n",
    "cpu_t_j, cpu_err_j = times_errs(cpu_stats_j)\n",
    "\n",
    "a = cp.Variable()\n",
    "b = cp.Variable()\n",
    "\n",
    "start = 1\n",
    "targets = np.log(cpu_t)\n",
    "residuals = cp.sum_squares(targets[start:] - (a + b*np.log(resources[start:])))\n",
    "problem = cp.Problem(cp.Minimize(residuals))\n",
    "problem.solve()\n",
    "\n",
    "print(np.exp(a.value))\n",
    "print(b.value)\n",
    "\n",
    "cpu_t_inputs = np.linspace(resources[start], 100, 100)\n",
    "cpu_t_quad_fit = np.exp((a.value + b.value*(np.log(cpu_t_inputs))))\n",
    "cpu_t_quad_fit\n",
    "\n",
    "a = cp.Variable()\n",
    "b = cp.Variable()\n",
    "\n",
    "targets = np.log(gpu_t)\n",
    "start = 1\n",
    "residuals = cp.sum_squares(targets[start:] - (a + b*np.log(resources[start:].cpu().numpy())))\n",
    "problem = cp.Problem(cp.Minimize(residuals))\n",
    "problem.solve()\n",
    "\n",
    "print(np.exp(a.value))\n",
    "print(b.value)\n",
    "\n",
    "gpu_t_inputs = np.linspace(resources[start], resources[-1], 100)\n",
    "gpu_t_fit = np.exp(a.value + b.value*(np.log(gpu_t_inputs)))\n",
    "gpu_t_fit\n",
    "\n",
    "\n",
    "a = cp.Variable()\n",
    "b = cp.Variable()\n",
    "\n",
    "targets = np.log(cpu_t_j)\n",
    "start = 2\n",
    "residuals = cp.sum_squares(targets[start:] - (a + b*np.log(np.array(jobs_j[start:]))))\n",
    "problem = cp.Problem(cp.Minimize(residuals))\n",
    "problem.solve()\n",
    "\n",
    "print(np.exp(a.value))\n",
    "print(b.value)\n",
    "\n",
    "cpu_t_j_inputs = np.linspace(jobs_j[start], jobs_j[-1], 100)\n",
    "cpu_t_j_fit = np.exp((a.value + b.value*(np.log(cpu_t_j_inputs))))\n",
    "cpu_t_j_fit\n",
    "\n",
    "a = cp.Variable()\n",
    "b = cp.Variable()\n",
    "\n",
    "start = 3\n",
    "targets = np.log(gpu_t_j)\n",
    "residuals = cp.sum_squares(targets[start:] - (a + b*np.log(np.array(jobs_j[start:]))))\n",
    "problem = cp.Problem(cp.Minimize(residuals))\n",
    "problem.solve()\n",
    "\n",
    "print(np.exp(a.value))\n",
    "print(b.value)\n",
    "\n",
    "gpu_t_j_inputs = np.linspace(jobs_j[start], jobs_j[-1], 100)\n",
    "gpu_t_j_fit = np.exp(a.value + b.value*(np.log(gpu_t_j_inputs)))\n",
    "gpu_t_j_fit\n"
   ]
  },
  {
   "cell_type": "code",
   "execution_count": 46,
   "metadata": {},
   "outputs": [
    {
     "data": {
      "image/png": "[encoded data removed]",
      "text/plain": [
       "<Figure size 410.4x489.6 with 2 Axes>"
      ]
     },
     "metadata": {
      "needs_background": "light"
     },
     "output_type": "display_data"
    }
   ],
   "source": [
    "fig, axs = plt.subplots(2, 1, figsize=(5.7, 6.8))\n",
    "\n",
    "axs[0].set_xscale('log')\n",
    "axs[0].set_yscale('log')\n",
    "axs[0].plot(resources, gpu_t, label='gpu')\n",
    "axs[0].plot(resources, cpu_t, label='cpu')\n",
    "axs[0].plot(cpu_t_inputs, cpu_t_quad_fit, linestyle='--')\n",
    "axs[0].plot(gpu_t_inputs, gpu_t_fit, linestyle='--')\n",
    "axs[0].set_xlabel('number of resources')\n",
    "axs[0].set_ylabel('seconds')\n",
    "axs[0].legend()\n",
    "\n",
    "axs[1].set_xscale('log')\n",
    "axs[1].set_yscale('log')\n",
    "axs[1].plot(jobs_j, gpu_t_j, label='gpu')\n",
    "axs[1].plot(jobs_j, cpu_t_j, label='cpu')\n",
    "axs[1].plot(cpu_t_j_inputs, cpu_t_j_fit, linestyle='--')\n",
    "axs[1].plot(gpu_t_j_inputs, gpu_t_j_fit, linestyle='--')\n",
    "axs[1].set_xlabel('number of jobs')\n",
    "axs[1].set_ylabel('seconds')\n",
    "axs[1].legend()\n",
    "plt.tight_layout()\n",
    "plt.savefig('scaling.pdf')"
   ]
  },
  {
   "cell_type": "code",
   "execution_count": 51,
   "metadata": {},
   "outputs": [
    {
     "data": {
      "image/png": "[encoded data removed]",
      "text/plain": [
       "<Figure size 410.4x489.6 with 2 Axes>"
      ]
     },
     "metadata": {
      "needs_background": "light"
     },
     "output_type": "display_data"
    }
   ],
   "source": [
    "fig, axs = plt.subplots(2, 1, figsize=(5.7, 6.8))\n",
    "\n",
    "axs[0].plot(resources, gpu_t, label='gpu')\n",
    "axs[0].plot(resources, cpu_t, label='cpu')\n",
    "axs[0].set_xlabel('number of resources')\n",
    "axs[0].set_ylabel('seconds')\n",
    "axs[0].legend()\n",
    "\n",
    "axs[1].plot(jobs_j, gpu_t_j, label='gpu')\n",
    "axs[1].plot(jobs_j, cpu_t_j, label='cpu')\n",
    "axs[1].set_xlabel('number of jobs')\n",
    "axs[1].set_ylabel('seconds')\n",
    "axs[1].legend()\n",
    "plt.tight_layout()"
   ]
  },
  {
   "cell_type": "code",
   "execution_count": 137,
   "metadata": {},
   "outputs": [
    {
     "data": {
      "image/png": "[encoded data removed]",
      "text/plain": [
       "<Figure size 244.08x150.85 with 1 Axes>"
      ]
     },
     "metadata": {
      "needs_background": "light"
     },
     "output_type": "display_data"
    }
   ],
   "source": [
    "x = np.logspace(1, 4, 100)\n",
    "y = 2*x**1 + 10\n",
    "\n",
    "plt.plot(x, y)\n",
    "plt.yscale('log')\n",
    "plt.xscale('log')\n",
    "plt.show()"
   ]
  },
  {
   "cell_type": "code",
   "execution_count": 10,
   "metadata": {},
   "outputs": [
    {
     "ename": "NameError",
     "evalue": "name 'cpu_times' is not defined",
     "output_type": "error",
     "traceback": [
      "\u001b[0;31m---------------------------------------------------------------------------\u001b[0m",
      "\u001b[0;31mNameError\u001b[0m                                 Traceback (most recent call last)",
      "\u001b[0;32m<ipython-input-10-465a9b668600>\u001b[0m in \u001b[0;36m<module>\u001b[0;34m\u001b[0m\n\u001b[0;32m----> 1\u001b[0;31m \u001b[0mtimes\u001b[0m \u001b[0;34m=\u001b[0m \u001b[0mnp\u001b[0m\u001b[0;34m.\u001b[0m\u001b[0marray\u001b[0m\u001b[0;34m(\u001b[0m\u001b[0;34m[\u001b[0m\u001b[0ms\u001b[0m\u001b[0;34m.\u001b[0m\u001b[0mmean\u001b[0m \u001b[0;32mfor\u001b[0m \u001b[0ms\u001b[0m \u001b[0;32min\u001b[0m \u001b[0mcpu_times\u001b[0m\u001b[0;34m]\u001b[0m\u001b[0;34m)\u001b[0m\u001b[0;34m\u001b[0m\u001b[0;34m\u001b[0m\u001b[0m\n\u001b[0m\u001b[1;32m      2\u001b[0m \u001b[0mup_err\u001b[0m \u001b[0;34m=\u001b[0m \u001b[0;34m[\u001b[0m\u001b[0ms\u001b[0m\u001b[0;34m.\u001b[0m\u001b[0mmax\u001b[0m \u001b[0;34m-\u001b[0m \u001b[0ms\u001b[0m\u001b[0;34m.\u001b[0m\u001b[0mmean\u001b[0m \u001b[0;32mfor\u001b[0m \u001b[0ms\u001b[0m \u001b[0;32min\u001b[0m \u001b[0mcpu_times\u001b[0m\u001b[0;34m]\u001b[0m\u001b[0;34m\u001b[0m\u001b[0;34m\u001b[0m\u001b[0m\n\u001b[1;32m      3\u001b[0m \u001b[0mdown_err\u001b[0m \u001b[0;34m=\u001b[0m \u001b[0;34m[\u001b[0m\u001b[0ms\u001b[0m\u001b[0;34m.\u001b[0m\u001b[0mmean\u001b[0m \u001b[0;34m-\u001b[0m \u001b[0ms\u001b[0m\u001b[0;34m.\u001b[0m\u001b[0mmin\u001b[0m \u001b[0;32mfor\u001b[0m \u001b[0ms\u001b[0m \u001b[0;32min\u001b[0m \u001b[0mcpu_times\u001b[0m\u001b[0;34m]\u001b[0m\u001b[0;34m\u001b[0m\u001b[0;34m\u001b[0m\u001b[0m\n\u001b[1;32m      4\u001b[0m \u001b[0myerr\u001b[0m \u001b[0;34m=\u001b[0m \u001b[0mnp\u001b[0m\u001b[0;34m.\u001b[0m\u001b[0marray\u001b[0m\u001b[0;34m(\u001b[0m\u001b[0;34m[\u001b[0m\u001b[0mup_err\u001b[0m\u001b[0;34m,\u001b[0m \u001b[0mdown_err\u001b[0m\u001b[0;34m]\u001b[0m\u001b[0;34m)\u001b[0m\u001b[0;34m\u001b[0m\u001b[0;34m\u001b[0m\u001b[0m\n\u001b[1;32m      5\u001b[0m \u001b[0mplt\u001b[0m\u001b[0;34m.\u001b[0m\u001b[0mfigure\u001b[0m\u001b[0;34m(\u001b[0m\u001b[0mfigsize\u001b[0m\u001b[0;34m=\u001b[0m\u001b[0;34m(\u001b[0m\u001b[0;36m5.7\u001b[0m\u001b[0;34m,\u001b[0m \u001b[0;36m4\u001b[0m\u001b[0;34m)\u001b[0m\u001b[0;34m)\u001b[0m\u001b[0;34m\u001b[0m\u001b[0;34m\u001b[0m\u001b[0m\n",
      "\u001b[0;31mNameError\u001b[0m: name 'cpu_times' is not defined"
     ]
    }
   ],
   "source": [
    "times = np.array([s.mean for s in cpu_times])\n",
    "up_err = [s.max - s.mean for s in cpu_times]\n",
    "down_err = [s.mean - s.min for s in cpu_times]\n",
    "yerr = np.array([up_err, down_err])\n",
    "plt.figure(figsize=(5.7, 4))\n",
    "plt.errorbar(resources, times, yerr=yerr)\n",
    "plt.xlabel('number of resources')\n",
    "plt.ylabel('seconds')"
   ]
  },
  {
   "cell_type": "code",
   "execution_count": 3,
   "metadata": {},
   "outputs": [],
   "source": [
    "torch.manual_seed(0)\n",
    "np.random.seed(0)\n",
    "targets = torch.tensor([0.25]*n_jobs, device=device).reshape(-1, 1)\n",
    "\n",
    "priorities = torch.randint(low=1, high=3, size=(n_jobs, 1), device=device)\n",
    "\n",
    "if USE_DOUBLES:\n",
    "    targets = targets.double()\n",
    "    priorities = priorities.double()\n",
    "\n",
    "target_utility_fn = utilities.TargetPriority(targets, priorities)\n",
    "\n",
    "priority_problem = AllocationProblem(\n",
    "    throughput_matrix,\n",
    "    resource_limits=resource_limits,\n",
    "    utility_function=target_utility_fn,\n",
    ")"
   ]
  },
  {
   "cell_type": "code",
   "execution_count": 4,
   "metadata": {},
   "outputs": [
    {
     "name": "stdout",
     "output_type": "stream",
     "text": [
      "Mar 26 11:37:30 AM: iteration 00 | utility=-0.119563 | dual_value=0.0018908 | gap=1.21e-01\n",
      "Mar 26 11:37:30 AM: iteration 05 | utility=-0.0577112 | dual_value=-0.017768 | gap=3.99e-02\n",
      "Mar 26 11:37:31 AM: iteration 10 | utility=-0.0446213 | dual_value=-0.0387265 | gap=5.89e-03\n",
      "Mar 26 11:37:31 AM: Converged in 013 iterations, with residual 0.000639719\n",
      "Solve took 6.059e-01 seconds\n",
      "optimal value  -0.03952421875\n",
      "upper bound -0.0388845\n"
     ]
    }
   ],
   "source": [
    "p_prices, p_stats = priority_problem.solve(eps=1e-3, snapshot_every=1, verbose=True)\n",
    "print(f'Solve took {p_stats.solve_time:.3e} seconds')\n",
    "print('optimal value ', p_stats.utils[-1])\n",
    "print('upper bound', p_stats.dual_values[-1])\n",
    "p_prices\n",
    "\n",
    "# From MOSEK below ...\n",
    "P_OPT_VALUE = -38946.1010989067 / n_jobs\n",
    "P_OPT_PRICES = np.array([0.12113543, 0.37165886, 1.02147318, 1.7266437])"
   ]
  },
  {
   "cell_type": "code",
   "execution_count": 6,
   "metadata": {},
   "outputs": [
    {
     "name": "stdout",
     "output_type": "stream",
     "text": [
      "fraction jobs with slack  0.359061\n"
     ]
    },
    {
     "data": {
      "text/plain": [
       "tensor(0.2535, device='cuda:0')"
      ]
     },
     "execution_count": 6,
     "metadata": {},
     "output_type": "execute_result"
    }
   ],
   "source": [
    "p_X_opt = priority_problem.make_feasible(priority_problem.X)\n",
    "print('fraction jobs with slack ', (p_X_opt[:, 0] > 0).sum().item() / float(n_jobs))\n",
    "((p_X_opt[:, 1:] > 1e-6).sum(axis=1) == 2).sum() / n_jobs"
   ]
  },
  {
   "cell_type": "code",
   "execution_count": 7,
   "metadata": {},
   "outputs": [
    {
     "name": "stdout",
     "output_type": "stream",
     "text": [
      "Mar 26 11:37:38 AM: iteration 00 | utility=-1.73708 | dual_value=-1.4098 | gap=3.27e-01\n",
      "Mar 26 11:37:38 AM: iteration 05 | utility=-1.53582 | dual_value=-1.51522 | gap=2.06e-02\n",
      "Mar 26 11:37:38 AM: iteration 10 | utility=-1.52336 | dual_value=-1.52179 | gap=1.56e-03\n",
      "Mar 26 11:37:38 AM: Converged in 012 iterations, with residual 8.9e-05\n",
      "Solve took 2.946e-01 seconds\n",
      "optimal value  -1.52191825\n",
      "upper bound -1.52182925\n"
     ]
    },
    {
     "data": {
      "text/plain": [
       "tensor([0.0000, 0.7018, 1.7535, 3.9067, 6.1830], device='cuda:0')"
      ]
     },
     "execution_count": 7,
     "metadata": {},
     "output_type": "execute_result"
    }
   ],
   "source": [
    "prices, stats = alloc_problem.solve(eps=1e-3, snapshot_every=1, verbose=True)\n",
    "print(f'Solve took {stats.solve_time:.3e} seconds')\n",
    "print('optimal value ', stats.utils[-1])\n",
    "print('upper bound', stats.dual_values[-1])\n",
    "prices"
   ]
  },
  {
   "cell_type": "code",
   "execution_count": 8,
   "metadata": {},
   "outputs": [
    {
     "name": "stdout",
     "output_type": "stream",
     "text": [
      "fraction jobs with slack  0.183328\n"
     ]
    }
   ],
   "source": [
    "X_opt = alloc_problem.make_feasible(alloc_problem.X)\n",
    "print('fraction jobs with slack ', (X_opt[:, 0] > 0).sum().item() / float(n_jobs))"
   ]
  },
  {
   "cell_type": "code",
   "execution_count": 9,
   "metadata": {},
   "outputs": [
    {
     "data": {
      "text/plain": [
       "tensor(0.1701, device='cuda:0')"
      ]
     },
     "execution_count": 9,
     "metadata": {},
     "output_type": "execute_result"
    }
   ],
   "source": [
    "((X_opt[:, 1:] > 1e-6).sum(axis=1) == 2).sum() / n_jobs"
   ]
  },
  {
   "cell_type": "code",
   "execution_count": 13,
   "metadata": {},
   "outputs": [
    {
     "data": {
      "image/png": "[encoded data removed]",
      "text/plain": [
       "<Figure size 294.545x471.273 with 4 Axes>"
      ]
     },
     "metadata": {
      "needs_background": "light"
     },
     "output_type": "display_data"
    }
   ],
   "source": [
    "fig, axs = plt.subplots(2, 1, sharex=True)\n",
    "fig.set_size_inches((4.5/1.1, 7.2/1.1))\n",
    "\n",
    "def plot_X(X, n_jobs=20, ax=None):\n",
    "    sparsity_pattern = (X > 0).cpu().numpy()\n",
    "    sparsity_pattern = sparsity_pattern * 1.\n",
    "\n",
    "    if ax is None:\n",
    "        fig = plt.figure()\n",
    "        fig.set_size_inches(7, 8)\n",
    "        ax = plt.gca()\n",
    "    im = ax.imshow(X[:n_jobs].cpu().numpy(), aspect='auto', cmap='viridis')\n",
    "    plt.colorbar(im, ax=ax)\n",
    "    ax.set_xticks([0, 1, 2, 3, 4])\n",
    "    ax.set_xticklabels(['slack', 1, 2, 3, 4])\n",
    "    ax.set_ylabel('job number')\n",
    "    ax.set_yticks([0, 5, 10, 15])\n",
    "    return im\n",
    "\n",
    "im = plot_X(X_opt, ax=axs[0])\n",
    "plot_X(p_X_opt, ax=axs[1])\n",
    "axs[1].set_xlabel('resource number')\n",
    "plt.tight_layout()\n",
    "plt.savefig('allocation_matrices.pdf')"
   ]
  },
  {
   "cell_type": "code",
   "execution_count": null,
   "metadata": {},
   "outputs": [],
   "source": [
    "fig = plt.figure()\n",
    "fig.set_size_inches(6.4, 3.)\n",
    "plt.imshow(X_opt.cpu(), aspect='auto')\n",
    "plt.xlabel('resource')\n",
    "plt.ylabel('job')\n",
    "plt.gca().ticklabel_format(style='sci', axis='y', scilimits=(0,0))\n",
    "plt.xticks([0, 1, 2, 3, 4])\n",
    "plt.gca().set_xticklabels(['slack', 1, 2, 3, 4])\n",
    "plt.colorbar()\n",
    "plt.tight_layout()\n",
    "plt.savefig('allocation_matrix.pdf')"
   ]
  },
  {
   "cell_type": "code",
   "execution_count": null,
   "metadata": {},
   "outputs": [],
   "source": [
    "plt.figure(figsize=(5.7, 2.4))\n",
    "plt.hist(stats.throughputs[0].cpu(), color='tab:blue', bins=500, label='initial', alpha=0.3)\n",
    "plt.hist(stats.throughputs[-1].cpu(), color='tab:orange', bins=500, label='final', alpha=0.3)\n",
    "plt.xlabel('$t$')\n",
    "plt.ylabel('number of jobs')\n",
    "plt.legend(loc='upper left')\n",
    "plt.tight_layout()\n",
    "#plt.savefig('throughput_distributions.pdf')"
   ]
  },
  {
   "cell_type": "code",
   "execution_count": 15,
   "metadata": {},
   "outputs": [],
   "source": [
    "def _cdf(array, n_bins=None, ax=None, xlabel=None, label=None, color=None):\n",
    "    array = np.sort(array)                                                       \n",
    "    if n_bins is None:                                                           \n",
    "        n_bins = min(array.size, 100000)                                         \n",
    "    step = int(array.size / n_bins)                                              \n",
    "    bins = np.arange(1, array.size + 1, step=step)                               \n",
    "    if bins[-1] != array.size:                                                   \n",
    "        bins = np.concatenate((bins, np.array([array.size])))                    \n",
    "    heights = bins / float(array.size)                                           \n",
    "                                                                                 \n",
    "    if ax is None:\n",
    "        ax = plt.gca()                                                               \n",
    "    ax.step(array[bins - 1], heights, color=color, label=label)\n",
    "    if xlabel is not None:\n",
    "        ax.set_xlabel(xlabel)"
   ]
  },
  {
   "cell_type": "code",
   "execution_count": 17,
   "metadata": {},
   "outputs": [
    {
     "data": {
      "image/png": "[encoded data removed]",
      "text/plain": [
       "<Figure size 410.4x460.8 with 2 Axes>"
      ]
     },
     "metadata": {
      "needs_background": "light"
     },
     "output_type": "display_data"
    }
   ],
   "source": [
    "#plt.hist(throughputs[0], color='tab:blue', bins=500, label='initial', alpha=0.3)\n",
    "#plt.hist(throughputs[-1], color='tab:orange', bins=500, label='final', alpha=0.3)\n",
    "#plt.hist(throughputs[-1], color='tab:orange', bins=500, label='final', alpha=0.3)\n",
    "fig, axs = plt.subplots(2, 1, sharex=True)\n",
    "fig.set_size_inches((5.7, 6.4))\n",
    "\n",
    "def plot_cdfs(throughputs, iters, ax, colors=None):\n",
    "    for i in iters:\n",
    "        _cdf(throughputs[i].cpu(), n_bins=5000, ax=ax, label=f'$k={i}$')\n",
    "        \n",
    "plot_cdfs(stats.throughputs, [0, 5, 10], axs[0])\n",
    "plot_cdfs(p_stats.throughputs, [0, 6, 12], axs[1])\n",
    "axs[0].legend()\n",
    "axs[1].legend()\n",
    "axs[1].set_xlabel('$t$')\n",
    "\n",
    "for ax in axs:\n",
    "    ax.xaxis.set_tick_params(which='both', labelbottom=True)\n",
    "\n",
    "plt.tight_layout()\n",
    "plt.savefig('throughput_distributions.pdf')"
   ]
  },
  {
   "cell_type": "code",
   "execution_count": 19,
   "metadata": {},
   "outputs": [],
   "source": [
    "# from MOSEK solve below ...\n",
    "OPT_VALUE = -1521835.4311374626 / n_jobs\n",
    "OPT_PRICES = np.array([0.70200379, 1.75420888, 3.90780805, 6.19478944])\n",
    "#tensor([1.0089, 1.5876, 2.9808, 4.3457], dtype=torch.float64)"
   ]
  },
  {
   "cell_type": "code",
   "execution_count": 23,
   "metadata": {},
   "outputs": [
    {
     "name": "stdout",
     "output_type": "stream",
     "text": [
      "prices  tensor([0.0000, 0.7051, 1.7601, 3.9182, 6.1505])\n",
      "prices  tensor([0.0000, 0.1200, 0.3612, 1.0540, 1.7186])\n"
     ]
    },
    {
     "data": {
      "image/png": "[encoded data removed]",
      "text/plain": [
       "<Figure size 410.4x518.4 with 4 Axes>"
      ]
     },
     "metadata": {
      "needs_background": "light"
     },
     "output_type": "display_data"
    },
    {
     "data": {
      "image/png": "[encoded data removed]",
      "text/plain": [
       "<Figure size 410.4x518.4 with 4 Axes>"
      ]
     },
     "metadata": {
      "needs_background": "light"
     },
     "output_type": "display_data"
    }
   ],
   "source": [
    "def plot_four(alloc_problem, stats, opt_prices, opt_value, xticks, figname=None):\n",
    "    fig, axs = plt.subplots(4, 1)\n",
    "    fig.set_size_inches((5.7, 7.2))\n",
    "\n",
    "    stop_at = np.argmax(np.array(stats.gaps) < 1e-3)\n",
    "    price_history = torch.stack(stats.snapshots)\n",
    "    axs[0].plot(price_history[:, 1].cpu().numpy(), label='$p_1$')\n",
    "    axs[0].plot(price_history[:, 2].cpu().numpy(), label='$p_2$')\n",
    "    axs[0].plot(price_history[:, 3].cpu().numpy(), label='$p_3$')\n",
    "    axs[0].plot(price_history[:, 4].cpu().numpy(), label='$p_4$')\n",
    "    axs[0].axhline(opt_prices[0], linestyle='--', color='tab:blue', linewidth=0.7)\n",
    "    axs[0].axhline(opt_prices[1], linestyle='--', color='tab:orange', linewidth=0.7)\n",
    "    axs[0].axhline(opt_prices[2], linestyle='--', color='tab:green', linewidth=0.7)\n",
    "    axs[0].axhline(opt_prices[3], linestyle='--', color='tab:red', linewidth=0.7)\n",
    "    axs[0].set_ylabel('price')\n",
    "    axs[0].set_xticks(xticks)\n",
    "    axs[0].set_xlim(0, len(stats.gaps) - 1)\n",
    "    axs[0].axvline(stop_at, linestyle='--', color='gray', linewidth=0.5)\n",
    "    axs[0].legend(loc='upper left')\n",
    "\n",
    "    resource_history = torch.stack(stats.resource_usage)[:, 1:].cpu().numpy()\n",
    "    axs[1].ticklabel_format(style='sci', axis='y', scilimits=(0,0))\n",
    "    axs[1].plot(resource_history[:, 0], label='$r_1$')\n",
    "    axs[1].plot(resource_history[:, 1], label='$r_2$')\n",
    "    axs[1].plot(resource_history[:, 2], label='$r_3$')\n",
    "    axs[1].plot(resource_history[:, 3], label='$r_4$')\n",
    "    axs[1].axhline(alloc_problem.resource_limits[1], linestyle='--', color='tab:blue', linewidth=0.7)\n",
    "    axs[1].axhline(alloc_problem.resource_limits[2], linestyle='--', color='tab:orange', linewidth=0.7)\n",
    "    axs[1].axhline(alloc_problem.resource_limits[3], linestyle='--', color='tab:green', linewidth=0.7)\n",
    "    axs[1].axhline(alloc_problem.resource_limits[4], linestyle='--', color='tab:red', linewidth=0.7)\n",
    "    axs[1].axvline(stop_at, linestyle='--', color='gray', linewidth=0.5)\n",
    "    axs[1].set_ylabel('resource usage')\n",
    "    axs[1].set_yscale('log')\n",
    "    axs[1].legend(loc='upper left')\n",
    "    axs[1].set_xticks(xticks)\n",
    "    axs[1].set_xlim(0, len(stats.gaps) - 1)\n",
    "#    axs[1].set_xlim(0, 11)\n",
    "\n",
    "    axs[2].plot(np.array(stats.dual_values), color='gray', linestyle='--', label='upper bound')\n",
    "    axs[2].plot(stats.utils, color='black', linestyle='--', label='lower bound')\n",
    "    axs[2].axvline(stop_at, linestyle='--', color='gray', linewidth=0.5)\n",
    "    axs[2].set_ylabel('average utility')\n",
    "    axs[2].legend(loc='lower left')\n",
    "    axs[2].set_xticks(xticks)\n",
    "    axs[2].set_xlim(0, len(stats.gaps) - 1)\n",
    "#    axs[2].set_xlim(0, 11)\n",
    "\n",
    "    axs[3].ticklabel_format(style='sci', axis='y', scilimits=(0,0))\n",
    "    axs[3].plot((np.array(stats.dual_values) - np.array(stats.utils)), color='black', label='duality gap')\n",
    "    axs[3].plot((opt_value - np.array(stats.utils)), color='gray', linestyle='--', label='true suboptimality')\n",
    "    axs[3].set_ylabel('suboptimality')\n",
    "    #axs[3].axhline(1e-3, linestyle='--', color='k', linewidth=0.5)\n",
    "    axs[3].axvline(stop_at, linestyle='--', color='gray', linewidth=0.5)\n",
    "    axs[3].set_yscale('log')\n",
    "    axs[3].set_yticks([1e-1, 1e-3])\n",
    "    axs[3].set_xticks(xticks)\n",
    "    axs[3].legend(loc='lower left')\n",
    "#    axs[3].set_xlim(0, 11)\n",
    "    axs[3].set_xlim(0, len(stats.gaps) - 1)\n",
    "    axs[3].set_xlabel('iteration')\n",
    "\n",
    "    plt.tight_layout()\n",
    "    #plt.savefig('synthetic_example_four_plots.pdf')\n",
    "    if figname is not None:\n",
    "        plt.savefig(figname)\n",
    "    print('prices ', price_history[-1])\n",
    "    \n",
    "\n",
    "plot_four(alloc_problem, stats, OPT_PRICES, OPT_VALUE, [0, 5, 10], 'progress_log.pdf')\n",
    "plot_four(priority_problem, p_stats, P_OPT_PRICES, P_OPT_VALUE, [0, 5, 10], 'progress_target.pdf')"
   ]
  },
  {
   "cell_type": "code",
   "execution_count": 53,
   "metadata": {},
   "outputs": [
    {
     "data": {
      "text/plain": [
       "[-301528.4268487119,\n",
       " -340978.1875,\n",
       " -349380.46875,\n",
       " -351247.78125,\n",
       " -352311.75,\n",
       " -353030.125,\n",
       " -354470.15625,\n",
       " -354600.625,\n",
       " -354627.3125,\n",
       " -354628.0625,\n",
       " -354628.28125,\n",
       " -354628.28125]"
      ]
     },
     "execution_count": 53,
     "metadata": {},
     "output_type": "execute_result"
    }
   ],
   "source": [
    "dual_values"
   ]
  },
  {
   "cell_type": "code",
   "execution_count": 37,
   "metadata": {},
   "outputs": [
    {
     "name": "stdout",
     "output_type": "stream",
     "text": [
      "prices  tensor([0.0000, 1.0618, 1.4872, 0.9622, 1.3176])\n"
     ]
    }
   ],
   "source": [
    "price_history = torch.stack(stats.snapshots)\n",
    "axs[0].plot(price_history[:, 1:].cpu().numpy())\n",
    "axs[0].set_xlabel('iteration')\n",
    "axs[0].set_ylabel('price')\n",
    "#plt.legend()\n",
    "#plt.tight_layout()\n",
    "#plt.show()\n",
    "print('prices ', price_history[-1])"
   ]
  },
  {
   "cell_type": "code",
   "execution_count": 5,
   "metadata": {},
   "outputs": [
    {
     "data": {
      "text/plain": [
       "<matplotlib.legend.Legend at 0x7fc1dc9a6100>"
      ]
     },
     "execution_count": 5,
     "metadata": {},
     "output_type": "execute_result"
    },
    {
     "data": {
      "image/png": "[encoded data removed]",
      "text/plain": [
       "<Figure size 432x216 with 1 Axes>"
      ]
     },
     "metadata": {
      "needs_background": "light"
     },
     "output_type": "display_data"
    }
   ],
   "source": [
    "plt.figure(figsize=(6, 2))\n",
    "plt.plot(dual_values, label='upper bound')\n",
    "plt.plot(utilities, label='lower bound')\n",
    "plt.xlabel('iteration')\n",
    "plt.ylabel('optimal value')\n",
    "plt.legend()"
   ]
  },
  {
   "cell_type": "code",
   "execution_count": 5,
   "metadata": {},
   "outputs": [],
   "source": [
    "problem = allocator.make_cvxpy_problem()"
   ]
  },
  {
   "cell_type": "code",
   "execution_count": 6,
   "metadata": {
    "scrolled": false
   },
   "outputs": [
    {
     "name": "stdout",
     "output_type": "stream",
     "text": [
      "===============================================================================\n",
      "                                     CVXPY                                     \n",
      "                                    v1.1.11                                    \n",
      "===============================================================================\n",
      "(CVXPY) Mar 24 02:20:19 PM: Your problem has 50000 variables, 2 constraints, and 0 parameters.\n",
      "(CVXPY) Mar 24 02:20:19 PM: It is compliant with the following grammars: DCP, DQCP\n",
      "(CVXPY) Mar 24 02:20:19 PM: (If you need to solve this problem multiple times, but with different data, consider using parameters.)\n",
      "(CVXPY) Mar 24 02:20:19 PM: CVXPY will first compile your problem; then, it will invoke a numerical solver to obtain a solution.\n",
      "-------------------------------------------------------------------------------\n",
      "                                  Compilation                                  \n",
      "-------------------------------------------------------------------------------\n",
      "(CVXPY) Mar 24 02:20:19 PM: Compiling problem (target solver=MOSEK).\n",
      "(CVXPY) Mar 24 02:20:19 PM: Reduction chain: FlipObjective -> Dcp2Cone -> CvxAttr2Constr -> ConeMatrixStuffing -> MOSEK\n",
      "(CVXPY) Mar 24 02:20:19 PM: Applying reduction FlipObjective\n",
      "(CVXPY) Mar 24 02:20:19 PM: Applying reduction Dcp2Cone\n",
      "(CVXPY) Mar 24 02:20:19 PM: Applying reduction CvxAttr2Constr\n",
      "(CVXPY) Mar 24 02:20:19 PM: Applying reduction ConeMatrixStuffing\n",
      "(CVXPY) Mar 24 02:20:19 PM: Applying reduction MOSEK\n",
      "(CVXPY) Mar 24 02:20:19 PM: Finished problem compilation (took 1.356e-01 seconds).\n",
      "-------------------------------------------------------------------------------\n",
      "                                Numerical solver                               \n",
      "-------------------------------------------------------------------------------\n",
      "(CVXPY) Mar 24 02:20:19 PM: Invoking solver MOSEK to obtain a solution.\n",
      "\n",
      "\n",
      "Problem\n",
      "  Name                   :                 \n",
      "  Objective sense        : max             \n",
      "  Type                   : CONIC (conic optimization problem)\n",
      "  Constraints            : 60000           \n",
      "  Cones                  : 10000           \n",
      "  Scalar variables       : 90004           \n",
      "  Matrix variables       : 0               \n",
      "  Integer variables      : 0               \n",
      "\n",
      "Optimizer started.\n",
      "Problem\n",
      "  Name                   :                 \n",
      "  Objective sense        : max             \n",
      "  Type                   : CONIC (conic optimization problem)\n",
      "  Constraints            : 60000           \n",
      "  Cones                  : 10000           \n",
      "  Scalar variables       : 90004           \n",
      "  Matrix variables       : 0               \n",
      "  Integer variables      : 0               \n",
      "\n",
      "Optimizer  - threads                : 4               \n",
      "Optimizer  - solved problem         : the primal      \n",
      "Optimizer  - Constraints            : 40000\n",
      "Optimizer  - Cones                  : 10000\n",
      "Optimizer  - Scalar variables       : 80004             conic                  : 30000           \n",
      "Optimizer  - Semi-definite variables: 0                 scalarized             : 0               \n",
      "Factor     - setup time             : 0.05              dense det. time        : 0.00            \n",
      "Factor     - ML order time          : 0.01              GP order time          : 0.00            \n",
      "Factor     - nonzeros before factor : 1.40e+05          after factor           : 2.00e+05        \n",
      "Factor     - dense dim.             : 4                 flops                  : 1.68e+06        \n",
      "ITE PFEAS    DFEAS    GFEAS    PRSTATUS   POBJ              DOBJ              MU       TIME  \n",
      "0   1.0e+00  8.0e+03  8.3e+03  0.00e+00   -8.278383991e+03  8.051020016e-01   1.0e+00  0.17  \n",
      "1   4.2e-01  3.4e+03  2.5e+03  4.74e-01   -4.055533461e+03  1.688363972e+00   4.2e-01  0.24  \n",
      "2   3.8e-01  3.1e+03  2.2e+03  8.38e-01   -3.679835400e+03  1.809433682e+00   3.8e-01  0.30  \n",
      "3   3.5e-01  2.8e+03  1.8e+03  9.69e-01   -3.208291065e+03  1.876575849e+00   3.5e-01  0.36  \n",
      "4   6.4e-02  5.1e+02  1.3e+02  8.95e-01   -5.833616808e+02  2.920722200e+00   6.4e-02  0.39  \n",
      "5   1.4e-02  1.1e+02  9.0e+00  1.47e+00   -9.359836534e+01  3.307046164e+00   1.4e-02  0.43  \n",
      "6   1.9e-03  1.5e+01  3.4e-01  1.40e+00   -7.066407498e+00  3.140495957e+00   1.9e-03  0.47  \n",
      "7   2.7e-04  2.1e+00  1.4e-02  1.31e+00   1.530073993e+00   2.728270444e+00   2.7e-04  0.52  \n",
      "8   5.0e-05  4.0e-01  1.1e-03  1.40e+00   1.657848059e+00   1.834593997e+00   5.0e-05  0.57  \n",
      "9   2.2e-05  1.8e-01  3.3e-04  1.14e+00   1.590109458e+00   1.665314541e+00   2.2e-05  0.61  \n",
      "10  1.6e-05  1.3e-01  2.1e-04  1.06e+00   1.573750918e+00   1.628555739e+00   1.6e-05  0.66  \n",
      "11  1.4e-05  1.1e-01  1.6e-04  1.04e+00   1.566810775e+00   1.612745481e+00   1.4e-05  0.70  \n",
      "12  1.1e-05  8.6e-02  1.1e-04  1.04e+00   1.558644911e+00   1.594425925e+00   1.1e-05  0.75  \n",
      "13  8.1e-06  6.4e-02  7.3e-05  1.03e+00   1.551276320e+00   1.577989737e+00   8.1e-06  0.79  \n",
      "14  5.8e-06  4.7e-02  4.5e-05  1.02e+00   1.545067122e+00   1.564344053e+00   5.8e-06  0.82  \n",
      "15  4.1e-06  3.3e-02  2.7e-05  1.02e+00   1.540171004e+00   1.553832189e+00   4.1e-06  0.86  \n",
      "16  3.1e-06  2.5e-02  1.7e-05  1.01e+00   1.536833249e+00   1.547019984e+00   3.1e-06  0.90  \n",
      "17  2.6e-06  2.1e-02  1.4e-05  1.01e+00   1.535204251e+00   1.543808332e+00   2.6e-06  0.94  \n",
      "18  1.9e-06  1.5e-02  8.1e-06  1.01e+00   1.532598809e+00   1.538676269e+00   1.9e-06  0.98  \n",
      "19  1.5e-06  1.2e-02  5.7e-06  1.01e+00   1.531195823e+00   1.535986207e+00   1.5e-06  1.03  \n",
      "20  1.2e-06  9.8e-03  4.4e-06  1.00e+00   1.530371247e+00   1.534410859e+00   1.2e-06  1.08  \n",
      "21  1.1e-06  8.8e-03  3.7e-06  1.00e+00   1.529898055e+00   1.533517370e+00   1.1e-06  1.13  \n",
      "22  8.9e-07  7.1e-03  2.7e-06  1.00e+00   1.529099625e+00   1.532015591e+00   8.9e-07  1.16  \n",
      "23  7.3e-07  5.8e-03  2.0e-06  1.00e+00   1.528481828e+00   1.530865823e+00   7.3e-07  1.21  \n",
      "24  6.0e-07  4.8e-03  1.5e-06  1.00e+00   1.527998970e+00   1.529969991e+00   6.0e-07  1.25  \n",
      "25  5.1e-07  4.1e-03  1.2e-06  1.00e+00   1.527634842e+00   1.529302230e+00   5.1e-07  1.29  \n",
      "26  3.8e-07  3.0e-03  7.5e-07  1.00e+00   1.527110983e+00   1.528346432e+00   3.8e-07  1.34  \n",
      "27  3.1e-07  2.5e-03  5.7e-07  1.00e+00   1.526852207e+00   1.527879409e+00   3.1e-07  1.39  \n",
      "28  2.6e-07  2.1e-03  4.4e-07  1.00e+00   1.526644464e+00   1.527505371e+00   2.6e-07  1.44  \n",
      "29  2.1e-07  1.6e-03  3.0e-07  1.00e+00   1.526405875e+00   1.527079842e+00   2.1e-07  1.49  \n",
      "30  1.5e-07  1.2e-03  1.9e-07  1.00e+00   1.526171172e+00   1.526665833e+00   1.5e-07  1.54  \n",
      "31  9.1e-08  7.3e-04  9.0e-08  1.00e+00   1.525914977e+00   1.526214218e+00   9.1e-08  1.59  \n",
      "32  5.7e-08  4.6e-04  4.5e-08  1.00e+00   1.525764412e+00   1.525952520e+00   5.7e-08  1.63  \n",
      "33  4.3e-08  3.5e-04  2.9e-08  1.00e+00   1.525699928e+00   1.525842092e+00   4.3e-08  1.68  \n",
      "34  3.7e-08  2.9e-04  2.3e-08  1.00e+00   1.525667477e+00   1.525787196e+00   3.7e-08  1.73  \n",
      "35  1.3e-08  1.0e-04  4.7e-09  1.00e+00   1.525551560e+00   1.525593478e+00   1.3e-08  1.78  \n",
      "36  3.1e-09  2.5e-05  5.7e-10  1.00e+00   1.525503992e+00   1.525514209e+00   3.1e-09  1.82  \n",
      "37  5.2e-10  4.2e-06  3.9e-11  1.00e+00   1.525490328e+00   1.525492041e+00   5.2e-10  1.87  \n",
      "38  1.4e-10  1.1e-06  5.4e-12  1.00e+00   1.525488302e+00   1.525488760e+00   1.4e-10  1.92  \n",
      "39  7.5e-10  1.5e-07  2.6e-13  1.00e+00   1.525487660e+00   1.525487720e+00   1.8e-11  1.96  \n",
      "40  6.2e-10  1.3e-07  2.2e-13  9.99e-01   1.525487651e+00   1.525487705e+00   1.7e-11  2.01  \n",
      "41  6.1e-10  1.3e-07  2.2e-13  1.00e+00   1.525487651e+00   1.525487704e+00   1.6e-11  2.06  \n",
      "42  5.5e-10  1.1e-07  1.8e-13  1.00e+00   1.525487639e+00   1.525487686e+00   1.4e-11  2.11  \n",
      "43  6.3e-10  9.9e-08  1.4e-13  1.00e+00   1.525487629e+00   1.525487669e+00   1.2e-11  2.16  \n",
      "44  1.3e-09  3.1e-08  2.5e-14  1.00e+00   1.525487584e+00   1.525487596e+00   3.8e-12  2.20  \n",
      "Optimizer terminated. Time: 2.24    \n",
      "\n",
      "\n",
      "Interior-point solution summary\n",
      "  Problem status  : PRIMAL_AND_DUAL_FEASIBLE\n",
      "  Solution status : OPTIMAL\n",
      "  Primal.  obj: 1.5254875839e+00    nrm: 1e-03    Viol.  con: 5e-10    var: 9e-13    cones: 9e-11  \n",
      "  Dual.    obj: 1.5254875965e+00    nrm: 2e+00    Viol.  con: 0e+00    var: 5e-12    cones: 0e+00  \n",
      "-------------------------------------------------------------------------------\n",
      "                                    Summary                                    \n",
      "-------------------------------------------------------------------------------\n",
      "(CVXPY) Mar 24 02:20:21 PM: Problem status: optimal\n"
     ]
    },
    {
     "name": "stdout",
     "output_type": "stream",
     "text": [
      "(CVXPY) Mar 24 02:20:21 PM: Optimal value: -1.525e+00\n",
      "(CVXPY) Mar 24 02:20:21 PM: Compilation took 1.356e-01 seconds\n",
      "(CVXPY) Mar 24 02:20:21 PM: Solver (including time spent in interface) took 2.367e+00 seconds\n",
      "-1.525487584429425\n",
      "[6.99221189e-05 1.74909788e-04 3.97148776e-04 6.26997996e-04]\n"
     ]
    }
   ],
   "source": [
    "#problem.solve(cp.SCS, max_iters=10, acceleration_lookback=0, verbose=True)\n",
    "problem.solve(cp.MOSEK, verbose=True)\n",
    "print(problem.objective.value)\n",
    "print(problem.constraints[1].dual_value)"
   ]
  },
  {
   "cell_type": "code",
   "execution_count": 36,
   "metadata": {
    "scrolled": false
   },
   "outputs": [
    {
     "name": "stdout",
     "output_type": "stream",
     "text": [
      "===============================================================================\n",
      "                                     CVXPY                                     \n",
      "                                    v1.1.11                                    \n",
      "===============================================================================\n",
      "(CVXPY) Mar 23 02:55:21 PM: Your problem has 5000000 variables, 2 constraints, and 0 parameters.\n",
      "(CVXPY) Mar 23 02:55:21 PM: It is compliant with the following grammars: DCP, DQCP\n",
      "(CVXPY) Mar 23 02:55:21 PM: (If you need to solve this problem multiple times, but with different data, consider using parameters.)\n",
      "(CVXPY) Mar 23 02:55:21 PM: CVXPY will first compile your problem; then, it will invoke a numerical solver to obtain a solution.\n",
      "-------------------------------------------------------------------------------\n",
      "                                  Compilation                                  \n",
      "-------------------------------------------------------------------------------\n",
      "(CVXPY) Mar 23 02:55:21 PM: Compiling problem (target solver=MOSEK).\n",
      "(CVXPY) Mar 23 02:55:21 PM: Reduction chain: FlipObjective -> Dcp2Cone -> CvxAttr2Constr -> ConeMatrixStuffing -> MOSEK\n",
      "(CVXPY) Mar 23 02:55:21 PM: Applying reduction FlipObjective\n",
      "(CVXPY) Mar 23 02:55:21 PM: Applying reduction Dcp2Cone\n",
      "(CVXPY) Mar 23 02:55:21 PM: Applying reduction CvxAttr2Constr\n",
      "(CVXPY) Mar 23 02:55:21 PM: Applying reduction ConeMatrixStuffing\n",
      "(CVXPY) Mar 23 02:55:26 PM: Applying reduction MOSEK\n",
      "(CVXPY) Mar 23 02:55:31 PM: Finished problem compilation (took 1.077e+01 seconds).\n",
      "-------------------------------------------------------------------------------\n",
      "                                Numerical solver                               \n",
      "-------------------------------------------------------------------------------\n",
      "(CVXPY) Mar 23 02:55:31 PM: Invoking solver MOSEK to obtain a solution.\n",
      "\n",
      "\n",
      "Problem\n",
      "  Name                   :                 \n",
      "  Objective sense        : max             \n",
      "  Type                   : CONIC (conic optimization problem)\n",
      "  Constraints            : 6000000         \n",
      "  Cones                  : 1000000         \n",
      "  Scalar variables       : 9000004         \n",
      "  Matrix variables       : 0               \n",
      "  Integer variables      : 0               \n",
      "\n",
      "Optimizer started.\n",
      "Problem\n",
      "  Name                   :                 \n",
      "  Objective sense        : max             \n",
      "  Type                   : CONIC (conic optimization problem)\n",
      "  Constraints            : 6000000         \n",
      "  Cones                  : 1000000         \n",
      "  Scalar variables       : 9000004         \n",
      "  Matrix variables       : 0               \n",
      "  Integer variables      : 0               \n",
      "\n",
      "Optimizer  - threads                : 4               \n",
      "Optimizer  - solved problem         : the primal      \n",
      "Optimizer  - Constraints            : 4000000\n",
      "Optimizer  - Cones                  : 1000000\n",
      "Optimizer  - Scalar variables       : 8000004           conic                  : 3000000         \n",
      "Optimizer  - Semi-definite variables: 0                 scalarized             : 0               \n",
      "Factor     - setup time             : 5.95              dense det. time        : 0.00            \n",
      "Factor     - ML order time          : 0.66              GP order time          : 0.00            \n",
      "Factor     - nonzeros before factor : 1.40e+07          after factor           : 2.00e+07        \n",
      "Factor     - dense dim.             : 4                 flops                  : 1.68e+08        \n",
      "ITE PFEAS    DFEAS    GFEAS    PRSTATUS   POBJ              DOBJ              MU       TIME  \n",
      "0   1.0e+00  8.0e+05  1.6e+06  0.00e+00   -8.278383991e+05  8.051020016e+05   1.0e+00  18.09 \n",
      "1   3.8e-01  3.0e+05  4.6e+05  5.36e-01   -2.037932073e+05  5.562624422e+05   3.8e-01  23.67 \n",
      "2   3.4e-01  2.7e+05  4.0e+05  5.58e-01   -1.201367068e+05  5.852219182e+05   3.4e-01  28.72 \n",
      "3   2.9e-01  2.3e+05  3.2e+05  5.54e-01   4.662296029e+01   6.163767302e+05   2.9e-01  33.71 \n",
      "4   5.1e-02  4.0e+04  3.6e+04  5.42e-01   8.385341472e+05   9.869824003e+05   5.1e-02  38.72 \n",
      "5   2.3e-02  1.8e+04  1.4e+04  5.42e-01   1.137263851e+06   1.223096554e+06   2.3e-02  43.64 \n",
      "6   6.7e-03  5.3e+03  2.5e+03  6.85e-01   1.382400123e+06   1.411669864e+06   6.7e-03  48.53 \n",
      "7   4.3e-03  3.4e+03  1.3e+03  8.31e-01   1.432316497e+06   1.452099868e+06   4.3e-03  53.42 \n",
      "8   2.6e-03  2.1e+03  6.2e+02  8.82e-01   1.468727649e+06   1.480904186e+06   2.6e-03  58.35 \n",
      "9   1.6e-03  1.3e+03  3.1e+02  9.32e-01   1.488635439e+06   1.496358462e+06   1.6e-03  63.17 \n",
      "10  1.0e-03  8.1e+02  1.5e+02  9.64e-01   1.501147968e+06   1.506003966e+06   1.0e-03  68.14 \n",
      "11  6.4e-04  5.1e+02  7.6e+01  9.83e-01   1.508942877e+06   1.511989780e+06   6.4e-04  73.02 \n",
      "12  4.3e-04  3.4e+02  4.2e+01  9.94e-01   1.513251911e+06   1.515291191e+06   4.3e-04  77.82 \n",
      "13  2.9e-04  2.3e+02  2.3e+01  9.99e-01   1.516047738e+06   1.517430337e+06   2.9e-04  82.60 \n",
      "14  2.0e-04  1.6e+02  1.3e+01  1.00e+00   1.517918050e+06   1.518859054e+06   2.0e-04  87.42 \n",
      "15  1.3e-04  1.1e+02  7.2e+00  1.00e+00   1.519213917e+06   1.519847302e+06   1.3e-04  92.21 \n",
      "16  9.0e-05  7.2e+01  4.0e+00  1.00e+00   1.520070788e+06   1.520499630e+06   9.0e-05  97.14 \n",
      "17  6.1e-05  4.9e+01  2.3e+00  1.00e+00   1.520641422e+06   1.520933244e+06   6.1e-05  102.00\n",
      "18  4.1e-05  3.3e+01  1.2e+00  1.00e+00   1.521036561e+06   1.521232908e+06   4.1e-05  106.74\n",
      "19  2.8e-05  2.2e+01  7.1e-01  1.00e+00   1.521290859e+06   1.521425392e+06   2.8e-05  111.45\n",
      "20  1.9e-05  1.5e+01  4.0e-01  1.00e+00   1.521463140e+06   1.521555555e+06   1.9e-05  116.44\n",
      "21  1.3e-05  1.0e+01  2.2e-01  1.00e+00   1.521586711e+06   1.521648742e+06   1.3e-05  121.21\n",
      "22  8.4e-06  6.7e+00  1.2e-01  1.00e+00   1.521675336e+06   1.521715439e+06   8.4e-06  125.87\n",
      "23  5.7e-06  4.6e+00  6.5e-02  1.00e+00   1.521726585e+06   1.521753933e+06   5.7e-06  130.50\n",
      "24  3.9e-06  3.1e+00  3.7e-02  1.00e+00   1.521761247e+06   1.521779927e+06   3.9e-06  135.18\n",
      "25  2.7e-06  2.2e+00  2.1e-02  1.00e+00   1.521784275e+06   1.521797164e+06   2.7e-06  139.81\n",
      "26  1.9e-06  1.5e+00  1.2e-02  1.00e+00   1.521800217e+06   1.521809080e+06   1.9e-06  144.40\n",
      "27  1.1e-06  8.1e-01  4.9e-03  1.00e+00   1.521815988e+06   1.521820854e+06   1.0e-06  148.96\n",
      "28  6.5e-07  5.0e-01  2.4e-03  1.00e+00   1.521823348e+06   1.521826336e+06   6.3e-07  160.05\n",
      "29  4.1e-07  3.2e-01  1.2e-03  1.00e+00   1.521827589e+06   1.521829488e+06   4.0e-07  172.87\n",
      "30  2.4e-07  1.8e-01  5.2e-04  1.00e+00   1.521830730e+06   1.521831818e+06   2.3e-07  185.84\n",
      "31  1.7e-07  1.3e-01  3.2e-04  1.00e+00   1.521831909e+06   1.521832691e+06   1.6e-07  204.74\n",
      "32  8.1e-08  6.3e-02  1.0e-04  1.00e+00   1.521833471e+06   1.521833845e+06   7.8e-08  217.60\n",
      "33  7.8e-08  6.0e-02  9.9e-05  1.00e+00   1.521833524e+06   1.521833885e+06   7.5e-08  231.60\n",
      "34  5.2e-08  2.4e-02  2.4e-05  1.00e+00   1.521834361e+06   1.521834502e+06   2.9e-08  242.56\n",
      "35  5.2e-08  2.4e-02  2.4e-05  1.00e+00   1.521834361e+06   1.521834502e+06   2.9e-08  261.75\n",
      "36  5.2e-08  2.4e-02  2.4e-05  1.00e+00   1.521834361e+06   1.521834502e+06   2.9e-08  281.22\n",
      "Optimizer terminated. Time: 302.61  \n",
      "\n",
      "\n",
      "Interior-point solution summary\n",
      "  Problem status  : PRIMAL_AND_DUAL_FEASIBLE\n",
      "  Solution status : OPTIMAL\n",
      "  Primal.  obj: 1.5218343610e+06    nrm: 1e+01    Viol.  con: 2e-07    var: 0e+00    cones: 0e+00  \n",
      "  Dual.    obj: 1.5218345017e+06    nrm: 2e+00    Viol.  con: 0e+00    var: 3e-07    cones: 0e+00  \n",
      "-------------------------------------------------------------------------------\n",
      "                                    Summary                                    \n",
      "-------------------------------------------------------------------------------\n",
      "(CVXPY) Mar 23 03:00:47 PM: Problem status: optimal\n",
      "(CVXPY) Mar 23 03:00:47 PM: Optimal value: -1.522e+06\n",
      "(CVXPY) Mar 23 03:00:47 PM: Compilation took 1.077e+01 seconds\n",
      "(CVXPY) Mar 23 03:00:47 PM: Solver (including time spent in interface) took 3.139e+02 seconds\n",
      "-1521835.4311374626\n",
      "[0.70200379 1.75420888 3.90780805 6.19478944]\n"
     ]
    }
   ],
   "source": [
    "#problem.solve(cp.SCS, max_iters=10, acceleration_lookback=0, verbose=True)\n",
    "problem.solve(cp.MOSEK, verbose=True)\n",
    "print(problem.objective.value)\n",
    "print(problem.constraints[1].dual_value)"
   ]
  },
  {
   "cell_type": "code",
   "execution_count": 71,
   "metadata": {},
   "outputs": [
    {
     "name": "stdout",
     "output_type": "stream",
     "text": [
      "===============================================================================\n",
      "                                     CVXPY                                     \n",
      "                                    v1.1.11                                    \n",
      "===============================================================================\n",
      "(CVXPY) Mar 25 05:02:58 PM: Your problem has 5000000 variables, 2 constraints, and 0 parameters.\n",
      "(CVXPY) Mar 25 05:02:58 PM: It is compliant with the following grammars: DCP, DQCP\n",
      "(CVXPY) Mar 25 05:02:58 PM: (If you need to solve this problem multiple times, but with different data, consider using parameters.)\n",
      "(CVXPY) Mar 25 05:02:58 PM: CVXPY will first compile your problem; then, it will invoke a numerical solver to obtain a solution.\n",
      "-------------------------------------------------------------------------------\n",
      "                                  Compilation                                  \n",
      "-------------------------------------------------------------------------------\n",
      "(CVXPY) Mar 25 05:02:58 PM: Compiling problem (target solver=MOSEK).\n",
      "(CVXPY) Mar 25 05:02:58 PM: Reduction chain: FlipObjective -> Dcp2Cone -> CvxAttr2Constr -> ConeMatrixStuffing -> MOSEK\n",
      "(CVXPY) Mar 25 05:02:58 PM: Applying reduction FlipObjective\n",
      "(CVXPY) Mar 25 05:02:58 PM: Applying reduction Dcp2Cone\n",
      "(CVXPY) Mar 25 05:02:58 PM: Applying reduction CvxAttr2Constr\n",
      "(CVXPY) Mar 25 05:02:58 PM: Applying reduction ConeMatrixStuffing\n",
      "(CVXPY) Mar 25 05:03:02 PM: Applying reduction MOSEK\n",
      "(CVXPY) Mar 25 05:03:07 PM: Finished problem compilation (took 9.793e+00 seconds).\n",
      "-------------------------------------------------------------------------------\n",
      "                                Numerical solver                               \n",
      "-------------------------------------------------------------------------------\n",
      "(CVXPY) Mar 25 05:03:07 PM: Invoking solver MOSEK to obtain a solution.\n",
      "\n",
      "\n",
      "Problem\n",
      "  Name                   :                 \n",
      "  Objective sense        : max             \n",
      "  Type                   : LO (linear optimization problem)\n",
      "  Constraints            : 6000000         \n",
      "  Cones                  : 0               \n",
      "  Scalar variables       : 8000004         \n",
      "  Matrix variables       : 0               \n",
      "  Integer variables      : 0               \n",
      "\n",
      "Optimizer started.\n",
      "Problem\n",
      "  Name                   :                 \n",
      "  Objective sense        : max             \n",
      "  Type                   : LO (linear optimization problem)\n",
      "  Constraints            : 6000000         \n",
      "  Cones                  : 0               \n",
      "  Scalar variables       : 8000004         \n",
      "  Matrix variables       : 0               \n",
      "  Integer variables      : 0               \n",
      "\n",
      "Optimizer  - threads                : 4               \n",
      "Optimizer  - solved problem         : the dual        \n",
      "Optimizer  - Constraints            : 2000004\n",
      "Optimizer  - Cones                  : 0\n",
      "Optimizer  - Scalar variables       : 7000004           conic                  : 0               \n",
      "Optimizer  - Semi-definite variables: 0                 scalarized             : 0               \n",
      "Factor     - setup time             : 4.03              dense det. time        : 0.00            \n",
      "Factor     - ML order time          : 0.43              GP order time          : 0.00            \n",
      "Factor     - nonzeros before factor : 1.10e+07          after factor           : 1.10e+07        \n",
      "Factor     - dense dim.             : 0                 flops                  : 1.15e+08        \n",
      "ITE PFEAS    DFEAS    GFEAS    PRSTATUS   POBJ              DOBJ              MU       TIME  \n",
      "0   3.0e+03  1.0e+09  1.3e+09  0.00e+00   3.749790000e+05   -8.998844384e+05  1.0e+06  12.88 \n",
      "1   1.2e+03  4.1e+08  5.2e+08  1.56e+00   1.195359668e+05   -2.915496844e+05  4.1e+05  14.29 \n",
      "2   1.2e+03  4.0e+08  5.1e+08  1.45e+00   1.125773014e+05   -2.648567306e+05  4.0e+05  15.46 \n",
      "3   2.6e+02  8.6e+07  1.1e+08  1.36e+00   5.517432798e+04   -1.239657698e+04  8.6e+04  16.59 \n",
      "4   1.4e+02  4.6e+07  5.8e+07  1.16e+00   4.709406855e+04   1.260910622e+04   4.6e+04  17.68 \n",
      "5   8.6e+01  2.9e+07  3.7e+07  1.05e+00   4.397961388e+04   2.234346070e+04   2.9e+04  18.78 \n",
      "6   5.5e+01  1.8e+07  2.3e+07  1.01e+00   4.214233552e+04   2.826769997e+04   1.8e+04  19.88 \n",
      "7   3.6e+01  1.2e+07  1.5e+07  9.88e-01   4.106877222e+04   3.183654195e+04   1.2e+04  20.99 \n",
      "8   2.4e+01  8.1e+06  1.0e+07  9.84e-01   4.038461044e+04   3.413554012e+04   8.1e+03  22.12 \n",
      "9   1.7e+01  5.5e+06  7.0e+06  9.86e-01   3.992329751e+04   3.568325324e+04   5.5e+03  23.21 \n",
      "10  1.1e+01  3.6e+06  4.7e+06  9.89e-01   3.959509248e+04   3.677745441e+04   3.7e+03  24.37 \n",
      "11  7.1e+00  2.4e+06  3.0e+06  9.92e-01   3.936463988e+04   3.754167371e+04   2.4e+03  25.48 \n",
      "12  4.6e+00  1.5e+06  1.9e+06  9.95e-01   3.921480146e+04   3.803623039e+04   1.5e+03  26.57 \n",
      "13  1.8e+00  9.4e+05  1.1e+06  9.97e-01   3.905046758e+04   3.838439546e+04   8.5e+02  27.70 \n",
      "14  6.6e-01  6.6e+05  7.1e+05  9.99e-01   3.897501716e+04   3.854674290e+04   5.5e+02  28.81 \n",
      "15  1.6e-01  4.7e+05  4.7e+05  9.99e-01   3.894075196e+04   3.865440775e+04   3.7e+02  29.99 \n",
      "16  1.2e-01  3.4e+05  3.4e+05  1.00e+00   3.893803861e+04   3.873007879e+04   2.7e+02  31.14 \n",
      "17  7.2e-02  2.2e+05  2.1e+05  1.00e+00   3.893635717e+04   3.880642423e+04   1.7e+02  32.29 \n",
      "18  4.6e-02  1.4e+05  1.4e+05  1.00e+00   3.893838507e+04   3.885527674e+04   1.1e+02  33.41 \n",
      "19  3.0e-02  9.0e+04  9.0e+04  1.00e+00   3.893988521e+04   3.888520109e+04   7.1e+01  34.58 \n",
      "20  2.2e-02  6.5e+04  6.5e+04  1.00e+00   3.894112712e+04   3.890195034e+04   5.1e+01  35.70 \n",
      "21  1.6e-02  4.6e+04  4.6e+04  1.00e+00   3.894227339e+04   3.891424275e+04   3.6e+01  36.81 \n",
      "22  1.2e-02  3.5e+04  3.5e+04  1.00e+00   3.894298348e+04   3.892187710e+04   2.7e+01  37.98 \n",
      "23  7.6e-03  2.3e+04  2.2e+04  1.00e+00   3.894372668e+04   3.893011578e+04   1.8e+01  39.18 \n",
      "24  5.4e-03  1.6e+04  1.6e+04  1.00e+00   3.894426575e+04   3.893449977e+04   1.3e+01  40.28 \n",
      "25  3.6e-03  1.1e+04  1.1e+04  1.00e+00   3.894473681e+04   3.893823108e+04   8.4e+00  41.41 \n",
      "26  2.5e-03  7.4e+03  7.4e+03  1.00e+00   3.894510529e+04   3.894061889e+04   5.8e+00  42.56 \n",
      "27  9.9e-04  2.9e+03  2.9e+03  1.00e+00   3.894559843e+04   3.894381813e+04   2.3e+00  43.76 \n",
      "28  5.2e-04  1.5e+03  1.5e+03  1.00e+00   3.894581661e+04   3.894488498e+04   1.2e+00  44.90 \n",
      "29  1.0e-04  3.1e+02  3.1e+02  1.00e+00   3.894602232e+04   3.894583375e+04   2.4e-01  46.06 \n",
      "30  1.7e-05  5.1e+01  5.1e+01  1.00e+00   3.894608643e+04   3.894605563e+04   4.0e-02  47.13 \n",
      "31  2.3e-06  6.7e+00  6.7e+00  1.00e+00   3.894609902e+04   3.894609496e+04   5.2e-03  48.20 \n",
      "32  1.2e-07  3.6e-01  3.7e-01  1.00e+00   3.894610098e+04   3.894610076e+04   2.8e-04  49.26 \n",
      "33  3.0e-11  2.2e-02  2.4e-03  1.00e+00   3.894610110e+04   3.894610110e+04   6.3e-08  50.37 \n",
      "Optimizer terminated. Time: 52.32   \n",
      "\n",
      "\n",
      "Interior-point solution summary\n",
      "  Problem status  : PRIMAL_AND_DUAL_FEASIBLE\n",
      "  Solution status : OPTIMAL\n",
      "  Primal.  obj: 3.8946101097e+04    nrm: 2e+00    Viol.  con: 2e-14    var: 0e+00  \n",
      "  Dual.    obj: 3.8946101099e+04    nrm: 1e+00    Viol.  con: 0e+00    var: 1e-07  \n",
      "-------------------------------------------------------------------------------\n",
      "                                    Summary                                    \n",
      "-------------------------------------------------------------------------------\n",
      "(CVXPY) Mar 25 05:04:12 PM: Problem status: optimal\n",
      "(CVXPY) Mar 25 05:04:12 PM: Optimal value: -3.895e+04\n",
      "(CVXPY) Mar 25 05:04:12 PM: Compilation took 9.793e+00 seconds\n",
      "(CVXPY) Mar 25 05:04:12 PM: Solver (including time spent in interface) took 6.317e+01 seconds\n",
      "-38946.1010989067\n",
      "[0.12113543 0.37165886 1.02147318 1.7266437 ]\n"
     ]
    }
   ],
   "source": [
    "problem = priority_problem.make_cvxpy_problem()\n",
    "problem.solve(solver=cp.MOSEK, verbose=True)\n",
    "print(problem.objective.value)\n",
    "print(problem.constraints[1].dual_value)"
   ]
  },
  {
   "cell_type": "code",
   "execution_count": 7,
   "metadata": {},
   "outputs": [
    {
     "data": {
      "text/plain": [
       "-0.0013061543948837014"
      ]
     },
     "execution_count": 7,
     "metadata": {},
     "output_type": "execute_result"
    }
   ],
   "source": [
    "problem.objective.value / n_jobs"
   ]
  }
 ],
 "metadata": {
  "kernelspec": {
   "display_name": "Python 3",
   "language": "python",
   "name": "python3"
  },
  "language_info": {
   "codemirror_mode": {
    "name": "ipython",
    "version": 3
   },
   "file_extension": ".py",
   "mimetype": "text/x-python",
   "name": "python",
   "nbconvert_exporter": "python",
   "pygments_lexer": "ipython3",
   "version": "3.8.6"
  }
 },
 "nbformat": 4,
 "nbformat_minor": 4
}
